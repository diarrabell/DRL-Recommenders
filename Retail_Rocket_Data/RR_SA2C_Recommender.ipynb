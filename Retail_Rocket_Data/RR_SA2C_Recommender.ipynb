{
  "cells": [
    {
      "cell_type": "code",
      "execution_count": 1,
      "metadata": {
        "colab": {
          "base_uri": "https://localhost:8080/"
        },
        "id": "MVxrrh5a5XQD",
        "outputId": "8d7b4436-d3ec-40c5-83a2-de006b058390"
      },
      "outputs": [
        {
          "name": "stdout",
          "output_type": "stream",
          "text": [
            "enter git token··········\n",
            "Cloning into 'AIPI-531-Final-Project'...\n",
            "remote: Enumerating objects: 34, done.\u001b[K\n",
            "remote: Counting objects: 100% (21/21), done.\u001b[K\n",
            "remote: Compressing objects: 100% (15/15), done.\u001b[K\n",
            "remote: Total 34 (delta 9), reused 18 (delta 6), pack-reused 13\u001b[K\n",
            "Unpacking objects: 100% (34/34), 77.16 MiB | 6.63 MiB/s, done.\n"
          ]
        }
      ],
      "source": [
        "import os\n",
        "import getpass\n",
        "\n",
        "# Remove Colab default sample_data\n",
        "!rm -r ./sample_data\n",
        "\n",
        "# # Clone GitHub files to colab workspace\n",
        "git_user = \"sfhorng\" # Enter user or organization name\n",
        "git_email = \"sh390@duke.edu\" # Enter your email\n",
        "repo_name = \"AIPI-531-Final-Project\" # Enter repo name\n",
        "git_token = getpass.getpass(\"enter git token\") # Enter your github token \n",
        "git_path = f\"https://{git_token}@github.com/{git_user}/{repo_name}.git\"\n",
        "!git clone \"{git_path}\"\n"
      ]
    },
    {
      "cell_type": "code",
      "execution_count": 2,
      "metadata": {
        "colab": {
          "base_uri": "https://localhost:8080/"
        },
        "id": "RLabrBDTxaVH",
        "outputId": "57a4f987-9269-46e4-e07a-d30f3d5f9976"
      },
      "outputs": [
        {
          "name": "stdout",
          "output_type": "stream",
          "text": [
            "Looking in indexes: https://pypi.org/simple, https://us-python.pkg.dev/colab-wheels/public/simple/\n",
            "Collecting trfl\n",
            "  Downloading trfl-1.2.0-py3-none-any.whl (104 kB)\n",
            "\u001b[2K     \u001b[90m━━━━━━━━━━━━━━━━━━━━━━━━━━━━━━━━━━━━━━\u001b[0m \u001b[32m104.3/104.3 kB\u001b[0m \u001b[31m11.0 MB/s\u001b[0m eta \u001b[36m0:00:00\u001b[0m\n",
            "\u001b[?25hRequirement already satisfied: numpy in /usr/local/lib/python3.9/dist-packages (from -r /content/AIPI-531-Final-Project/requirements.txt (line 2)) (1.22.4)\n",
            "Requirement already satisfied: pandas in /usr/local/lib/python3.9/dist-packages (from -r /content/AIPI-531-Final-Project/requirements.txt (line 3)) (1.5.3)\n",
            "Requirement already satisfied: tensorflow in /usr/local/lib/python3.9/dist-packages (from -r /content/AIPI-531-Final-Project/requirements.txt (line 4)) (2.12.0)\n",
            "Requirement already satisfied: scikit-learn in /usr/local/lib/python3.9/dist-packages (from -r /content/AIPI-531-Final-Project/requirements.txt (line 5)) (1.2.2)\n",
            "Requirement already satisfied: dm-tree in /usr/local/lib/python3.9/dist-packages (from trfl->-r /content/AIPI-531-Final-Project/requirements.txt (line 1)) (0.1.8)\n",
            "Requirement already satisfied: wrapt in /usr/local/lib/python3.9/dist-packages (from trfl->-r /content/AIPI-531-Final-Project/requirements.txt (line 1)) (1.14.1)\n",
            "Requirement already satisfied: six in /usr/local/lib/python3.9/dist-packages (from trfl->-r /content/AIPI-531-Final-Project/requirements.txt (line 1)) (1.16.0)\n",
            "Requirement already satisfied: absl-py in /usr/local/lib/python3.9/dist-packages (from trfl->-r /content/AIPI-531-Final-Project/requirements.txt (line 1)) (1.4.0)\n",
            "Requirement already satisfied: pytz>=2020.1 in /usr/local/lib/python3.9/dist-packages (from pandas->-r /content/AIPI-531-Final-Project/requirements.txt (line 3)) (2022.7.1)\n",
            "Requirement already satisfied: python-dateutil>=2.8.1 in /usr/local/lib/python3.9/dist-packages (from pandas->-r /content/AIPI-531-Final-Project/requirements.txt (line 3)) (2.8.2)\n",
            "Requirement already satisfied: tensorflow-estimator<2.13,>=2.12.0 in /usr/local/lib/python3.9/dist-packages (from tensorflow->-r /content/AIPI-531-Final-Project/requirements.txt (line 4)) (2.12.0)\n",
            "Requirement already satisfied: termcolor>=1.1.0 in /usr/local/lib/python3.9/dist-packages (from tensorflow->-r /content/AIPI-531-Final-Project/requirements.txt (line 4)) (2.2.0)\n",
            "Requirement already satisfied: libclang>=13.0.0 in /usr/local/lib/python3.9/dist-packages (from tensorflow->-r /content/AIPI-531-Final-Project/requirements.txt (line 4)) (16.0.0)\n",
            "Requirement already satisfied: opt-einsum>=2.3.2 in /usr/local/lib/python3.9/dist-packages (from tensorflow->-r /content/AIPI-531-Final-Project/requirements.txt (line 4)) (3.3.0)\n",
            "Requirement already satisfied: gast<=0.4.0,>=0.2.1 in /usr/local/lib/python3.9/dist-packages (from tensorflow->-r /content/AIPI-531-Final-Project/requirements.txt (line 4)) (0.4.0)\n",
            "Requirement already satisfied: tensorflow-io-gcs-filesystem>=0.23.1 in /usr/local/lib/python3.9/dist-packages (from tensorflow->-r /content/AIPI-531-Final-Project/requirements.txt (line 4)) (0.32.0)\n",
            "Requirement already satisfied: setuptools in /usr/local/lib/python3.9/dist-packages (from tensorflow->-r /content/AIPI-531-Final-Project/requirements.txt (line 4)) (67.6.1)\n",
            "Requirement already satisfied: grpcio<2.0,>=1.24.3 in /usr/local/lib/python3.9/dist-packages (from tensorflow->-r /content/AIPI-531-Final-Project/requirements.txt (line 4)) (1.53.0)\n",
            "Requirement already satisfied: tensorboard<2.13,>=2.12 in /usr/local/lib/python3.9/dist-packages (from tensorflow->-r /content/AIPI-531-Final-Project/requirements.txt (line 4)) (2.12.1)\n",
            "Requirement already satisfied: flatbuffers>=2.0 in /usr/local/lib/python3.9/dist-packages (from tensorflow->-r /content/AIPI-531-Final-Project/requirements.txt (line 4)) (23.3.3)\n",
            "Requirement already satisfied: protobuf!=4.21.0,!=4.21.1,!=4.21.2,!=4.21.3,!=4.21.4,!=4.21.5,<5.0.0dev,>=3.20.3 in /usr/local/lib/python3.9/dist-packages (from tensorflow->-r /content/AIPI-531-Final-Project/requirements.txt (line 4)) (3.20.3)\n",
            "Requirement already satisfied: keras<2.13,>=2.12.0 in /usr/local/lib/python3.9/dist-packages (from tensorflow->-r /content/AIPI-531-Final-Project/requirements.txt (line 4)) (2.12.0)\n",
            "Requirement already satisfied: astunparse>=1.6.0 in /usr/local/lib/python3.9/dist-packages (from tensorflow->-r /content/AIPI-531-Final-Project/requirements.txt (line 4)) (1.6.3)\n",
            "Requirement already satisfied: typing-extensions>=3.6.6 in /usr/local/lib/python3.9/dist-packages (from tensorflow->-r /content/AIPI-531-Final-Project/requirements.txt (line 4)) (4.5.0)\n",
            "Requirement already satisfied: jax>=0.3.15 in /usr/local/lib/python3.9/dist-packages (from tensorflow->-r /content/AIPI-531-Final-Project/requirements.txt (line 4)) (0.4.8)\n",
            "Requirement already satisfied: h5py>=2.9.0 in /usr/local/lib/python3.9/dist-packages (from tensorflow->-r /content/AIPI-531-Final-Project/requirements.txt (line 4)) (3.8.0)\n",
            "Requirement already satisfied: packaging in /usr/local/lib/python3.9/dist-packages (from tensorflow->-r /content/AIPI-531-Final-Project/requirements.txt (line 4)) (23.0)\n",
            "Requirement already satisfied: google-pasta>=0.1.1 in /usr/local/lib/python3.9/dist-packages (from tensorflow->-r /content/AIPI-531-Final-Project/requirements.txt (line 4)) (0.2.0)\n",
            "Requirement already satisfied: scipy>=1.3.2 in /usr/local/lib/python3.9/dist-packages (from scikit-learn->-r /content/AIPI-531-Final-Project/requirements.txt (line 5)) (1.10.1)\n",
            "Requirement already satisfied: threadpoolctl>=2.0.0 in /usr/local/lib/python3.9/dist-packages (from scikit-learn->-r /content/AIPI-531-Final-Project/requirements.txt (line 5)) (3.1.0)\n",
            "Requirement already satisfied: joblib>=1.1.1 in /usr/local/lib/python3.9/dist-packages (from scikit-learn->-r /content/AIPI-531-Final-Project/requirements.txt (line 5)) (1.2.0)\n",
            "Requirement already satisfied: wheel<1.0,>=0.23.0 in /usr/local/lib/python3.9/dist-packages (from astunparse>=1.6.0->tensorflow->-r /content/AIPI-531-Final-Project/requirements.txt (line 4)) (0.40.0)\n",
            "Requirement already satisfied: ml-dtypes>=0.0.3 in /usr/local/lib/python3.9/dist-packages (from jax>=0.3.15->tensorflow->-r /content/AIPI-531-Final-Project/requirements.txt (line 4)) (0.0.4)\n",
            "Requirement already satisfied: google-auth<3,>=1.6.3 in /usr/local/lib/python3.9/dist-packages (from tensorboard<2.13,>=2.12->tensorflow->-r /content/AIPI-531-Final-Project/requirements.txt (line 4)) (2.17.2)\n",
            "Requirement already satisfied: werkzeug>=1.0.1 in /usr/local/lib/python3.9/dist-packages (from tensorboard<2.13,>=2.12->tensorflow->-r /content/AIPI-531-Final-Project/requirements.txt (line 4)) (2.2.3)\n",
            "Requirement already satisfied: markdown>=2.6.8 in /usr/local/lib/python3.9/dist-packages (from tensorboard<2.13,>=2.12->tensorflow->-r /content/AIPI-531-Final-Project/requirements.txt (line 4)) (3.4.3)\n",
            "Requirement already satisfied: requests<3,>=2.21.0 in /usr/local/lib/python3.9/dist-packages (from tensorboard<2.13,>=2.12->tensorflow->-r /content/AIPI-531-Final-Project/requirements.txt (line 4)) (2.27.1)\n",
            "Requirement already satisfied: tensorboard-plugin-wit>=1.6.0 in /usr/local/lib/python3.9/dist-packages (from tensorboard<2.13,>=2.12->tensorflow->-r /content/AIPI-531-Final-Project/requirements.txt (line 4)) (1.8.1)\n",
            "Requirement already satisfied: tensorboard-data-server<0.8.0,>=0.7.0 in /usr/local/lib/python3.9/dist-packages (from tensorboard<2.13,>=2.12->tensorflow->-r /content/AIPI-531-Final-Project/requirements.txt (line 4)) (0.7.0)\n",
            "Requirement already satisfied: google-auth-oauthlib<1.1,>=0.5 in /usr/local/lib/python3.9/dist-packages (from tensorboard<2.13,>=2.12->tensorflow->-r /content/AIPI-531-Final-Project/requirements.txt (line 4)) (1.0.0)\n",
            "Requirement already satisfied: rsa<5,>=3.1.4 in /usr/local/lib/python3.9/dist-packages (from google-auth<3,>=1.6.3->tensorboard<2.13,>=2.12->tensorflow->-r /content/AIPI-531-Final-Project/requirements.txt (line 4)) (4.9)\n",
            "Requirement already satisfied: cachetools<6.0,>=2.0.0 in /usr/local/lib/python3.9/dist-packages (from google-auth<3,>=1.6.3->tensorboard<2.13,>=2.12->tensorflow->-r /content/AIPI-531-Final-Project/requirements.txt (line 4)) (5.3.0)\n",
            "Requirement already satisfied: pyasn1-modules>=0.2.1 in /usr/local/lib/python3.9/dist-packages (from google-auth<3,>=1.6.3->tensorboard<2.13,>=2.12->tensorflow->-r /content/AIPI-531-Final-Project/requirements.txt (line 4)) (0.2.8)\n",
            "Requirement already satisfied: requests-oauthlib>=0.7.0 in /usr/local/lib/python3.9/dist-packages (from google-auth-oauthlib<1.1,>=0.5->tensorboard<2.13,>=2.12->tensorflow->-r /content/AIPI-531-Final-Project/requirements.txt (line 4)) (1.3.1)\n",
            "Requirement already satisfied: importlib-metadata>=4.4 in /usr/local/lib/python3.9/dist-packages (from markdown>=2.6.8->tensorboard<2.13,>=2.12->tensorflow->-r /content/AIPI-531-Final-Project/requirements.txt (line 4)) (6.3.0)\n",
            "Requirement already satisfied: urllib3<1.27,>=1.21.1 in /usr/local/lib/python3.9/dist-packages (from requests<3,>=2.21.0->tensorboard<2.13,>=2.12->tensorflow->-r /content/AIPI-531-Final-Project/requirements.txt (line 4)) (1.26.15)\n",
            "Requirement already satisfied: charset-normalizer~=2.0.0 in /usr/local/lib/python3.9/dist-packages (from requests<3,>=2.21.0->tensorboard<2.13,>=2.12->tensorflow->-r /content/AIPI-531-Final-Project/requirements.txt (line 4)) (2.0.12)\n",
            "Requirement already satisfied: idna<4,>=2.5 in /usr/local/lib/python3.9/dist-packages (from requests<3,>=2.21.0->tensorboard<2.13,>=2.12->tensorflow->-r /content/AIPI-531-Final-Project/requirements.txt (line 4)) (3.4)\n",
            "Requirement already satisfied: certifi>=2017.4.17 in /usr/local/lib/python3.9/dist-packages (from requests<3,>=2.21.0->tensorboard<2.13,>=2.12->tensorflow->-r /content/AIPI-531-Final-Project/requirements.txt (line 4)) (2022.12.7)\n",
            "Requirement already satisfied: MarkupSafe>=2.1.1 in /usr/local/lib/python3.9/dist-packages (from werkzeug>=1.0.1->tensorboard<2.13,>=2.12->tensorflow->-r /content/AIPI-531-Final-Project/requirements.txt (line 4)) (2.1.2)\n",
            "Requirement already satisfied: zipp>=0.5 in /usr/local/lib/python3.9/dist-packages (from importlib-metadata>=4.4->markdown>=2.6.8->tensorboard<2.13,>=2.12->tensorflow->-r /content/AIPI-531-Final-Project/requirements.txt (line 4)) (3.15.0)\n",
            "Requirement already satisfied: pyasn1<0.5.0,>=0.4.6 in /usr/local/lib/python3.9/dist-packages (from pyasn1-modules>=0.2.1->google-auth<3,>=1.6.3->tensorboard<2.13,>=2.12->tensorflow->-r /content/AIPI-531-Final-Project/requirements.txt (line 4)) (0.4.8)\n",
            "Requirement already satisfied: oauthlib>=3.0.0 in /usr/local/lib/python3.9/dist-packages (from requests-oauthlib>=0.7.0->google-auth-oauthlib<1.1,>=0.5->tensorboard<2.13,>=2.12->tensorflow->-r /content/AIPI-531-Final-Project/requirements.txt (line 4)) (3.2.2)\n",
            "Installing collected packages: trfl\n",
            "Successfully installed trfl-1.2.0\n"
          ]
        }
      ],
      "source": [
        "# Install dependencies from requirements.txt file\n",
        "REPO_PATH = os.path.join(os.getcwd(), repo_name)\n",
        "%pip install -r {os.path.join(REPO_PATH, 'requirements.txt')}"
      ]
    },
    {
      "cell_type": "code",
      "execution_count": null,
      "metadata": {
        "colab": {
          "base_uri": "https://localhost:8080/",
          "height": 108
        },
        "id": "67I66yAntOno",
        "outputId": "b1fd7e56-f8cd-48de-f2f6-63a41264263a"
      },
      "outputs": [],
      "source": [
        "# Upload kaggle.json credentials for downloading with the API\n",
        "from google.colab import files\n",
        "files.upload()"
      ]
    },
    {
      "cell_type": "code",
      "execution_count": 4,
      "metadata": {
        "colab": {
          "base_uri": "https://localhost:8080/"
        },
        "id": "H__buga20FD-",
        "outputId": "0a83a9f8-5523-42dd-d867-799f55e54bb8"
      },
      "outputs": [
        {
          "name": "stdout",
          "output_type": "stream",
          "text": [
            "2023-04-19 00:17:44.052765: I tensorflow/core/platform/cpu_feature_guard.cc:182] This TensorFlow binary is optimized to use available CPU instructions in performance-critical operations.\n",
            "To enable the following instructions: AVX2 FMA, in other operations, rebuild TensorFlow with the appropriate compiler flags.\n",
            "2023-04-19 00:17:45.369736: W tensorflow/compiler/tf2tensorrt/utils/py_utils.cc:38] TF-TRT Warning: Could not find TensorRT\n",
            "Directory passed in for Retail Rocket data: /content/AIPI-531-Final-Project/Retail_Rocket_Data/data\n",
            "Downloading ecommerce-dataset.zip to /content\n",
            "100% 291M/291M [00:13<00:00, 22.2MB/s]\n",
            "100% 291M/291M [00:13<00:00, 22.4MB/s]\n",
            "Archive:  ecommerce-dataset.zip\n",
            "  inflating: /content/AIPI-531-Final-Project/Retail_Rocket_Data/data/category_tree.csv  \n",
            "  inflating: /content/AIPI-531-Final-Project/Retail_Rocket_Data/data/events.csv  \n",
            "  inflating: /content/AIPI-531-Final-Project/Retail_Rocket_Data/data/item_properties_part1.csv  \n",
            "  inflating: /content/AIPI-531-Final-Project/Retail_Rocket_Data/data/item_properties_part2.csv  \n",
            "Finished downloading to /content/AIPI-531-Final-Project/Retail_Rocket_Data/data\n",
            "Started to split the sorted events into train, validation, and test\n",
            "Finished splitting into train, validation, and test sessions\n",
            "Started to create the popularity dictionary\n",
            "100% 1233949/1233949 [00:00<00:00, 1889915.16it/s]\n",
            "Finished creating the popularity dictionary\n",
            "Started to create the replay buffer\n",
            "100% 156419/156419 [00:59<00:00, 2612.98it/s]\n",
            "   state_size  item_num\n",
            "0          10     70852\n",
            "Finished creating the replay buffer\n"
          ]
        }
      ],
      "source": [
        "# Download dataset, create sessions, create popularity dictionary and replay buffer\n",
        "RR_DIR = f'{REPO_PATH}/Retail_Rocket_Data'\n",
        "!python \"{RR_DIR}/src/main_setup.py\" --data_directory='{RR_DIR}/data'"
      ]
    },
    {
      "cell_type": "code",
      "execution_count": null,
      "metadata": {
        "id": "LHTt1pJhArX-"
      },
      "outputs": [],
      "source": [
        "import tensorflow as tf \n",
        "# Training\n",
        "%cd '{RR_DIR}/src'\n",
        "with tf.device('/GPU:0'):\n",
        "  ! python SA2C_new.py --model=GRU --epoch=10 --data='{RR_DIR}/data'"
      ]
    }
  ],
  "metadata": {
    "accelerator": "GPU",
    "colab": {
      "provenance": []
    },
    "gpuClass": "standard",
    "kernelspec": {
      "display_name": "Python 3",
      "language": "python",
      "name": "python3"
    },
    "language_info": {
      "name": "python",
      "version": "3.11.0"
    },
    "vscode": {
      "interpreter": {
        "hash": "aee8b7b246df8f9039afb4144a1f6fd8d2ca17a180786b69acc140d282b71a49"
      }
    }
  },
  "nbformat": 4,
  "nbformat_minor": 0
}

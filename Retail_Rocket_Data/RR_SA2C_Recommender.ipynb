{
  "cells": [
    {
      "cell_type": "code",
      "execution_count": null,
      "metadata": {
        "id": "MVxrrh5a5XQD"
      },
      "outputs": [],
      "source": [
        "import os\n",
        "import getpass\n",
        "\n",
        "# Remove Colab default sample_data\n",
        "!rm -r ./sample_data\n",
        "\n",
        "# # Clone GitHub files to colab workspace\n",
        "git_user = \"sfhorng\" # Enter user or organization name\n",
        "git_email = \"sh390@duke.edu\" # Enter your email\n",
        "repo_name = \"AIPI-531-Final-Project\" # Enter repo name\n",
        "git_token = getpass.getpass(\"enter git token\") # Enter your github token \n",
        "git_path = f\"https://{git_token}@github.com/{git_user}/{repo_name}.git\"\n",
        "!git clone \"{git_path}\"\n"
      ]
    },
    {
      "cell_type": "code",
      "execution_count": null,
      "metadata": {
        "id": "RLabrBDTxaVH"
      },
      "outputs": [],
      "source": [
        "# Install dependencies from requirements.txt file\n",
        "REPO_PATH = os.path.join(os.getcwd(), repo_name)\n",
        "%pip install -r {os.path.join(REPO_PATH, 'requirements.txt')}"
      ]
    },
    {
      "cell_type": "code",
      "execution_count": null,
      "metadata": {
        "id": "UYlgCcMV7LS2"
      },
      "outputs": [],
      "source": [
        "RR_DIR = f'{REPO_PATH}/Retail_Rocket_Data'\n",
        "%cd '{RR_DIR}'\n",
        "# Prepare data\n",
        "! unzip data.zip"
      ]
    },
    {
      "cell_type": "code",
      "execution_count": null,
      "metadata": {
        "id": "LHTt1pJhArX-"
      },
      "outputs": [],
      "source": [
        "import tensorflow as tf \n",
        "# Training\n",
        "%cd '{RR_DIR}/src'\n",
        "with tf.device('/GPU:0'):\n",
        "  ! python SA2C_new.py --model=GRU --epoch=10 --data='{RR_DIR}/data'"
      ]
    }
  ],
  "metadata": {
    "accelerator": "GPU",
    "colab": {
      "provenance": []
    },
    "gpuClass": "standard",
    "kernelspec": {
      "display_name": "Python 3",
      "language": "python",
      "name": "python3"
    },
    "language_info": {
      "name": "python",
      "version": "3.11.0"
    },
    "vscode": {
      "interpreter": {
        "hash": "aee8b7b246df8f9039afb4144a1f6fd8d2ca17a180786b69acc140d282b71a49"
      }
    }
  },
  "nbformat": 4,
  "nbformat_minor": 0
}

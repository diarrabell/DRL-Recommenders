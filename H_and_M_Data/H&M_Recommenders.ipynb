{
  "cells": [
    {
      "cell_type": "markdown",
      "metadata": {
        "id": "view-in-github",
        "colab_type": "text"
      },
      "source": [
        "<a href=\"https://colab.research.google.com/github/sfhorng/AIPI-531-Final-Project/blob/main/H_and_M_Data/H%26M_Recommenders.ipynb\" target=\"_parent\"><img src=\"https://colab.research.google.com/assets/colab-badge.svg\" alt=\"Open In Colab\"/></a>"
      ]
    },
    {
      "cell_type": "markdown",
      "source": [
        "## AIPI 531 Final Project - Diarra Bell and Stephanie Horng\n",
        "\n",
        "This notebook trains the SNQN/GRU4Rec models using the H&M Kaggle Dataset: https://www.kaggle.com/competitions/h-and-m-personalized-fashion-recommendations/data\n",
        "\n",
        "Link to Github Repo: https://github.com/sfhorng/AIPI-531-Final-Project/tree/main/Retail_Rocket_Data"
      ],
      "metadata": {
        "id": "3ZLWotqP5Vow"
      }
    },
    {
      "cell_type": "markdown",
      "source": [
        "### 1. Install Dependencies and Imports"
      ],
      "metadata": {
        "id": "E8HHGQC16QSW"
      }
    },
    {
      "cell_type": "code",
      "execution_count": 1,
      "metadata": {
        "id": "FH6zw6WDWRp4"
      },
      "outputs": [],
      "source": [
        "#import libraries\n",
        "import os\n",
        "import getpass\n",
        "import tensorflow as tf"
      ]
    },
    {
      "cell_type": "code",
      "source": [
        "! pip install -Uq kaggle"
      ],
      "metadata": {
        "id": "f1aJbvquqv72"
      },
      "execution_count": 2,
      "outputs": []
    },
    {
      "cell_type": "code",
      "source": [
        "! git clone https://github.com/sfhorng/AIPI-531-Final-Project.git"
      ],
      "metadata": {
        "colab": {
          "base_uri": "https://localhost:8080/"
        },
        "id": "EllPT1mLvIff",
        "outputId": "c8c79be2-2818-4b9c-8595-2e360287dbc1"
      },
      "execution_count": 3,
      "outputs": [
        {
          "output_type": "stream",
          "name": "stdout",
          "text": [
            "Cloning into 'AIPI-531-Final-Project'...\n",
            "remote: Enumerating objects: 342, done.\u001b[K\n",
            "remote: Counting objects: 100% (214/214), done.\u001b[K\n",
            "remote: Compressing objects: 100% (137/137), done.\u001b[K\n",
            "remote: Total 342 (delta 130), reused 141 (delta 77), pack-reused 128\u001b[K\n",
            "Receiving objects: 100% (342/342), 77.24 MiB | 47.33 MiB/s, done.\n",
            "Resolving deltas: 100% (191/191), done.\n"
          ]
        }
      ]
    },
    {
      "cell_type": "code",
      "execution_count": 4,
      "metadata": {
        "id": "Vkk8_19Nn2nB",
        "colab": {
          "base_uri": "https://localhost:8080/"
        },
        "outputId": "772cf8e6-4b98-48f9-bcd1-8535bf8c6cb8"
      },
      "outputs": [
        {
          "output_type": "stream",
          "name": "stdout",
          "text": [
            "Looking in indexes: https://pypi.org/simple, https://us-python.pkg.dev/colab-wheels/public/simple/\n",
            "Collecting trfl\n",
            "  Downloading trfl-1.2.0-py3-none-any.whl (104 kB)\n",
            "\u001b[2K     \u001b[90m━━━━━━━━━━━━━━━━━━━━━━━━━━━━━━━━━━━━━━━\u001b[0m \u001b[32m104.3/104.3 kB\u001b[0m \u001b[31m3.1 MB/s\u001b[0m eta \u001b[36m0:00:00\u001b[0m\n",
            "\u001b[?25hRequirement already satisfied: numpy in /usr/local/lib/python3.10/dist-packages (from -r /content/AIPI-531-Final-Project/requirements.txt (line 2)) (1.22.4)\n",
            "Requirement already satisfied: pandas in /usr/local/lib/python3.10/dist-packages (from -r /content/AIPI-531-Final-Project/requirements.txt (line 3)) (1.5.3)\n",
            "Requirement already satisfied: tensorflow in /usr/local/lib/python3.10/dist-packages (from -r /content/AIPI-531-Final-Project/requirements.txt (line 4)) (2.12.0)\n",
            "Requirement already satisfied: scikit-learn in /usr/local/lib/python3.10/dist-packages (from -r /content/AIPI-531-Final-Project/requirements.txt (line 5)) (1.2.2)\n",
            "Requirement already satisfied: absl-py in /usr/local/lib/python3.10/dist-packages (from trfl->-r /content/AIPI-531-Final-Project/requirements.txt (line 1)) (1.4.0)\n",
            "Requirement already satisfied: wrapt in /usr/local/lib/python3.10/dist-packages (from trfl->-r /content/AIPI-531-Final-Project/requirements.txt (line 1)) (1.14.1)\n",
            "Requirement already satisfied: dm-tree in /usr/local/lib/python3.10/dist-packages (from trfl->-r /content/AIPI-531-Final-Project/requirements.txt (line 1)) (0.1.8)\n",
            "Requirement already satisfied: six in /usr/local/lib/python3.10/dist-packages (from trfl->-r /content/AIPI-531-Final-Project/requirements.txt (line 1)) (1.16.0)\n",
            "Requirement already satisfied: python-dateutil>=2.8.1 in /usr/local/lib/python3.10/dist-packages (from pandas->-r /content/AIPI-531-Final-Project/requirements.txt (line 3)) (2.8.2)\n",
            "Requirement already satisfied: pytz>=2020.1 in /usr/local/lib/python3.10/dist-packages (from pandas->-r /content/AIPI-531-Final-Project/requirements.txt (line 3)) (2022.7.1)\n",
            "Requirement already satisfied: astunparse>=1.6.0 in /usr/local/lib/python3.10/dist-packages (from tensorflow->-r /content/AIPI-531-Final-Project/requirements.txt (line 4)) (1.6.3)\n",
            "Requirement already satisfied: tensorboard<2.13,>=2.12 in /usr/local/lib/python3.10/dist-packages (from tensorflow->-r /content/AIPI-531-Final-Project/requirements.txt (line 4)) (2.12.2)\n",
            "Requirement already satisfied: gast<=0.4.0,>=0.2.1 in /usr/local/lib/python3.10/dist-packages (from tensorflow->-r /content/AIPI-531-Final-Project/requirements.txt (line 4)) (0.4.0)\n",
            "Requirement already satisfied: keras<2.13,>=2.12.0 in /usr/local/lib/python3.10/dist-packages (from tensorflow->-r /content/AIPI-531-Final-Project/requirements.txt (line 4)) (2.12.0)\n",
            "Requirement already satisfied: packaging in /usr/local/lib/python3.10/dist-packages (from tensorflow->-r /content/AIPI-531-Final-Project/requirements.txt (line 4)) (23.1)\n",
            "Requirement already satisfied: termcolor>=1.1.0 in /usr/local/lib/python3.10/dist-packages (from tensorflow->-r /content/AIPI-531-Final-Project/requirements.txt (line 4)) (2.3.0)\n",
            "Requirement already satisfied: h5py>=2.9.0 in /usr/local/lib/python3.10/dist-packages (from tensorflow->-r /content/AIPI-531-Final-Project/requirements.txt (line 4)) (3.8.0)\n",
            "Requirement already satisfied: grpcio<2.0,>=1.24.3 in /usr/local/lib/python3.10/dist-packages (from tensorflow->-r /content/AIPI-531-Final-Project/requirements.txt (line 4)) (1.54.0)\n",
            "Requirement already satisfied: flatbuffers>=2.0 in /usr/local/lib/python3.10/dist-packages (from tensorflow->-r /content/AIPI-531-Final-Project/requirements.txt (line 4)) (23.3.3)\n",
            "Requirement already satisfied: protobuf!=4.21.0,!=4.21.1,!=4.21.2,!=4.21.3,!=4.21.4,!=4.21.5,<5.0.0dev,>=3.20.3 in /usr/local/lib/python3.10/dist-packages (from tensorflow->-r /content/AIPI-531-Final-Project/requirements.txt (line 4)) (3.20.3)\n",
            "Requirement already satisfied: jax>=0.3.15 in /usr/local/lib/python3.10/dist-packages (from tensorflow->-r /content/AIPI-531-Final-Project/requirements.txt (line 4)) (0.4.8)\n",
            "Requirement already satisfied: libclang>=13.0.0 in /usr/local/lib/python3.10/dist-packages (from tensorflow->-r /content/AIPI-531-Final-Project/requirements.txt (line 4)) (16.0.0)\n",
            "Requirement already satisfied: opt-einsum>=2.3.2 in /usr/local/lib/python3.10/dist-packages (from tensorflow->-r /content/AIPI-531-Final-Project/requirements.txt (line 4)) (3.3.0)\n",
            "Requirement already satisfied: setuptools in /usr/local/lib/python3.10/dist-packages (from tensorflow->-r /content/AIPI-531-Final-Project/requirements.txt (line 4)) (67.7.2)\n",
            "Requirement already satisfied: google-pasta>=0.1.1 in /usr/local/lib/python3.10/dist-packages (from tensorflow->-r /content/AIPI-531-Final-Project/requirements.txt (line 4)) (0.2.0)\n",
            "Requirement already satisfied: tensorflow-io-gcs-filesystem>=0.23.1 in /usr/local/lib/python3.10/dist-packages (from tensorflow->-r /content/AIPI-531-Final-Project/requirements.txt (line 4)) (0.32.0)\n",
            "Requirement already satisfied: tensorflow-estimator<2.13,>=2.12.0 in /usr/local/lib/python3.10/dist-packages (from tensorflow->-r /content/AIPI-531-Final-Project/requirements.txt (line 4)) (2.12.0)\n",
            "Requirement already satisfied: typing-extensions>=3.6.6 in /usr/local/lib/python3.10/dist-packages (from tensorflow->-r /content/AIPI-531-Final-Project/requirements.txt (line 4)) (4.5.0)\n",
            "Requirement already satisfied: joblib>=1.1.1 in /usr/local/lib/python3.10/dist-packages (from scikit-learn->-r /content/AIPI-531-Final-Project/requirements.txt (line 5)) (1.2.0)\n",
            "Requirement already satisfied: scipy>=1.3.2 in /usr/local/lib/python3.10/dist-packages (from scikit-learn->-r /content/AIPI-531-Final-Project/requirements.txt (line 5)) (1.10.1)\n",
            "Requirement already satisfied: threadpoolctl>=2.0.0 in /usr/local/lib/python3.10/dist-packages (from scikit-learn->-r /content/AIPI-531-Final-Project/requirements.txt (line 5)) (3.1.0)\n",
            "Requirement already satisfied: wheel<1.0,>=0.23.0 in /usr/local/lib/python3.10/dist-packages (from astunparse>=1.6.0->tensorflow->-r /content/AIPI-531-Final-Project/requirements.txt (line 4)) (0.40.0)\n",
            "Requirement already satisfied: ml-dtypes>=0.0.3 in /usr/local/lib/python3.10/dist-packages (from jax>=0.3.15->tensorflow->-r /content/AIPI-531-Final-Project/requirements.txt (line 4)) (0.1.0)\n",
            "Requirement already satisfied: werkzeug>=1.0.1 in /usr/local/lib/python3.10/dist-packages (from tensorboard<2.13,>=2.12->tensorflow->-r /content/AIPI-531-Final-Project/requirements.txt (line 4)) (2.3.0)\n",
            "Requirement already satisfied: tensorboard-plugin-wit>=1.6.0 in /usr/local/lib/python3.10/dist-packages (from tensorboard<2.13,>=2.12->tensorflow->-r /content/AIPI-531-Final-Project/requirements.txt (line 4)) (1.8.1)\n",
            "Requirement already satisfied: google-auth-oauthlib<1.1,>=0.5 in /usr/local/lib/python3.10/dist-packages (from tensorboard<2.13,>=2.12->tensorflow->-r /content/AIPI-531-Final-Project/requirements.txt (line 4)) (1.0.0)\n",
            "Requirement already satisfied: requests<3,>=2.21.0 in /usr/local/lib/python3.10/dist-packages (from tensorboard<2.13,>=2.12->tensorflow->-r /content/AIPI-531-Final-Project/requirements.txt (line 4)) (2.27.1)\n",
            "Requirement already satisfied: google-auth<3,>=1.6.3 in /usr/local/lib/python3.10/dist-packages (from tensorboard<2.13,>=2.12->tensorflow->-r /content/AIPI-531-Final-Project/requirements.txt (line 4)) (2.17.3)\n",
            "Requirement already satisfied: markdown>=2.6.8 in /usr/local/lib/python3.10/dist-packages (from tensorboard<2.13,>=2.12->tensorflow->-r /content/AIPI-531-Final-Project/requirements.txt (line 4)) (3.4.3)\n",
            "Requirement already satisfied: tensorboard-data-server<0.8.0,>=0.7.0 in /usr/local/lib/python3.10/dist-packages (from tensorboard<2.13,>=2.12->tensorflow->-r /content/AIPI-531-Final-Project/requirements.txt (line 4)) (0.7.0)\n",
            "Requirement already satisfied: pyasn1-modules>=0.2.1 in /usr/local/lib/python3.10/dist-packages (from google-auth<3,>=1.6.3->tensorboard<2.13,>=2.12->tensorflow->-r /content/AIPI-531-Final-Project/requirements.txt (line 4)) (0.3.0)\n",
            "Requirement already satisfied: cachetools<6.0,>=2.0.0 in /usr/local/lib/python3.10/dist-packages (from google-auth<3,>=1.6.3->tensorboard<2.13,>=2.12->tensorflow->-r /content/AIPI-531-Final-Project/requirements.txt (line 4)) (5.3.0)\n",
            "Requirement already satisfied: rsa<5,>=3.1.4 in /usr/local/lib/python3.10/dist-packages (from google-auth<3,>=1.6.3->tensorboard<2.13,>=2.12->tensorflow->-r /content/AIPI-531-Final-Project/requirements.txt (line 4)) (4.9)\n",
            "Requirement already satisfied: requests-oauthlib>=0.7.0 in /usr/local/lib/python3.10/dist-packages (from google-auth-oauthlib<1.1,>=0.5->tensorboard<2.13,>=2.12->tensorflow->-r /content/AIPI-531-Final-Project/requirements.txt (line 4)) (1.3.1)\n",
            "Requirement already satisfied: certifi>=2017.4.17 in /usr/local/lib/python3.10/dist-packages (from requests<3,>=2.21.0->tensorboard<2.13,>=2.12->tensorflow->-r /content/AIPI-531-Final-Project/requirements.txt (line 4)) (2022.12.7)\n",
            "Requirement already satisfied: charset-normalizer~=2.0.0 in /usr/local/lib/python3.10/dist-packages (from requests<3,>=2.21.0->tensorboard<2.13,>=2.12->tensorflow->-r /content/AIPI-531-Final-Project/requirements.txt (line 4)) (2.0.12)\n",
            "Requirement already satisfied: urllib3<1.27,>=1.21.1 in /usr/local/lib/python3.10/dist-packages (from requests<3,>=2.21.0->tensorboard<2.13,>=2.12->tensorflow->-r /content/AIPI-531-Final-Project/requirements.txt (line 4)) (1.26.15)\n",
            "Requirement already satisfied: idna<4,>=2.5 in /usr/local/lib/python3.10/dist-packages (from requests<3,>=2.21.0->tensorboard<2.13,>=2.12->tensorflow->-r /content/AIPI-531-Final-Project/requirements.txt (line 4)) (3.4)\n",
            "Requirement already satisfied: MarkupSafe>=2.1.1 in /usr/local/lib/python3.10/dist-packages (from werkzeug>=1.0.1->tensorboard<2.13,>=2.12->tensorflow->-r /content/AIPI-531-Final-Project/requirements.txt (line 4)) (2.1.2)\n",
            "Requirement already satisfied: pyasn1<0.6.0,>=0.4.6 in /usr/local/lib/python3.10/dist-packages (from pyasn1-modules>=0.2.1->google-auth<3,>=1.6.3->tensorboard<2.13,>=2.12->tensorflow->-r /content/AIPI-531-Final-Project/requirements.txt (line 4)) (0.5.0)\n",
            "Requirement already satisfied: oauthlib>=3.0.0 in /usr/local/lib/python3.10/dist-packages (from requests-oauthlib>=0.7.0->google-auth-oauthlib<1.1,>=0.5->tensorboard<2.13,>=2.12->tensorflow->-r /content/AIPI-531-Final-Project/requirements.txt (line 4)) (3.2.2)\n",
            "Installing collected packages: trfl\n",
            "Successfully installed trfl-1.2.0\n"
          ]
        }
      ],
      "source": [
        "# Install dependencies from requirements.txt file\n",
        "repo_name = \"AIPI-531-Final-Project\" \n",
        "REPO_PATH = os.path.join(os.getcwd(), repo_name)\n",
        "%pip install -r {os.path.join(REPO_PATH, 'requirements.txt')}"
      ]
    },
    {
      "cell_type": "markdown",
      "source": [
        "### 2. Download and Initialize H&M dataset"
      ],
      "metadata": {
        "id": "_qwapml66evj"
      }
    },
    {
      "cell_type": "code",
      "source": [
        "HM_DIR = f'{REPO_PATH}/H_and_M_Data'"
      ],
      "metadata": {
        "id": "CK0bfC-Xo81l"
      },
      "execution_count": 5,
      "outputs": []
    },
    {
      "cell_type": "code",
      "source": [
        "# Upload kaggle.json credentials for downloading with the API\n",
        "from google.colab import files\n",
        "files.upload()"
      ],
      "metadata": {
        "id": "sy88KQBrqlsR",
        "colab": {
          "base_uri": "https://localhost:8080/",
          "height": 90
        },
        "outputId": "a45c3292-de9a-45ed-c1fd-b641d5d0438c"
      },
      "execution_count": 6,
      "outputs": [
        {
          "output_type": "display_data",
          "data": {
            "text/plain": [
              "<IPython.core.display.HTML object>"
            ],
            "text/html": [
              "\n",
              "     <input type=\"file\" id=\"files-dc760ade-7438-466a-b0e6-ccbbcb87c552\" name=\"files[]\" multiple disabled\n",
              "        style=\"border:none\" />\n",
              "     <output id=\"result-dc760ade-7438-466a-b0e6-ccbbcb87c552\">\n",
              "      Upload widget is only available when the cell has been executed in the\n",
              "      current browser session. Please rerun this cell to enable.\n",
              "      </output>\n",
              "      <script>// Copyright 2017 Google LLC\n",
              "//\n",
              "// Licensed under the Apache License, Version 2.0 (the \"License\");\n",
              "// you may not use this file except in compliance with the License.\n",
              "// You may obtain a copy of the License at\n",
              "//\n",
              "//      http://www.apache.org/licenses/LICENSE-2.0\n",
              "//\n",
              "// Unless required by applicable law or agreed to in writing, software\n",
              "// distributed under the License is distributed on an \"AS IS\" BASIS,\n",
              "// WITHOUT WARRANTIES OR CONDITIONS OF ANY KIND, either express or implied.\n",
              "// See the License for the specific language governing permissions and\n",
              "// limitations under the License.\n",
              "\n",
              "/**\n",
              " * @fileoverview Helpers for google.colab Python module.\n",
              " */\n",
              "(function(scope) {\n",
              "function span(text, styleAttributes = {}) {\n",
              "  const element = document.createElement('span');\n",
              "  element.textContent = text;\n",
              "  for (const key of Object.keys(styleAttributes)) {\n",
              "    element.style[key] = styleAttributes[key];\n",
              "  }\n",
              "  return element;\n",
              "}\n",
              "\n",
              "// Max number of bytes which will be uploaded at a time.\n",
              "const MAX_PAYLOAD_SIZE = 100 * 1024;\n",
              "\n",
              "function _uploadFiles(inputId, outputId) {\n",
              "  const steps = uploadFilesStep(inputId, outputId);\n",
              "  const outputElement = document.getElementById(outputId);\n",
              "  // Cache steps on the outputElement to make it available for the next call\n",
              "  // to uploadFilesContinue from Python.\n",
              "  outputElement.steps = steps;\n",
              "\n",
              "  return _uploadFilesContinue(outputId);\n",
              "}\n",
              "\n",
              "// This is roughly an async generator (not supported in the browser yet),\n",
              "// where there are multiple asynchronous steps and the Python side is going\n",
              "// to poll for completion of each step.\n",
              "// This uses a Promise to block the python side on completion of each step,\n",
              "// then passes the result of the previous step as the input to the next step.\n",
              "function _uploadFilesContinue(outputId) {\n",
              "  const outputElement = document.getElementById(outputId);\n",
              "  const steps = outputElement.steps;\n",
              "\n",
              "  const next = steps.next(outputElement.lastPromiseValue);\n",
              "  return Promise.resolve(next.value.promise).then((value) => {\n",
              "    // Cache the last promise value to make it available to the next\n",
              "    // step of the generator.\n",
              "    outputElement.lastPromiseValue = value;\n",
              "    return next.value.response;\n",
              "  });\n",
              "}\n",
              "\n",
              "/**\n",
              " * Generator function which is called between each async step of the upload\n",
              " * process.\n",
              " * @param {string} inputId Element ID of the input file picker element.\n",
              " * @param {string} outputId Element ID of the output display.\n",
              " * @return {!Iterable<!Object>} Iterable of next steps.\n",
              " */\n",
              "function* uploadFilesStep(inputId, outputId) {\n",
              "  const inputElement = document.getElementById(inputId);\n",
              "  inputElement.disabled = false;\n",
              "\n",
              "  const outputElement = document.getElementById(outputId);\n",
              "  outputElement.innerHTML = '';\n",
              "\n",
              "  const pickedPromise = new Promise((resolve) => {\n",
              "    inputElement.addEventListener('change', (e) => {\n",
              "      resolve(e.target.files);\n",
              "    });\n",
              "  });\n",
              "\n",
              "  const cancel = document.createElement('button');\n",
              "  inputElement.parentElement.appendChild(cancel);\n",
              "  cancel.textContent = 'Cancel upload';\n",
              "  const cancelPromise = new Promise((resolve) => {\n",
              "    cancel.onclick = () => {\n",
              "      resolve(null);\n",
              "    };\n",
              "  });\n",
              "\n",
              "  // Wait for the user to pick the files.\n",
              "  const files = yield {\n",
              "    promise: Promise.race([pickedPromise, cancelPromise]),\n",
              "    response: {\n",
              "      action: 'starting',\n",
              "    }\n",
              "  };\n",
              "\n",
              "  cancel.remove();\n",
              "\n",
              "  // Disable the input element since further picks are not allowed.\n",
              "  inputElement.disabled = true;\n",
              "\n",
              "  if (!files) {\n",
              "    return {\n",
              "      response: {\n",
              "        action: 'complete',\n",
              "      }\n",
              "    };\n",
              "  }\n",
              "\n",
              "  for (const file of files) {\n",
              "    const li = document.createElement('li');\n",
              "    li.append(span(file.name, {fontWeight: 'bold'}));\n",
              "    li.append(span(\n",
              "        `(${file.type || 'n/a'}) - ${file.size} bytes, ` +\n",
              "        `last modified: ${\n",
              "            file.lastModifiedDate ? file.lastModifiedDate.toLocaleDateString() :\n",
              "                                    'n/a'} - `));\n",
              "    const percent = span('0% done');\n",
              "    li.appendChild(percent);\n",
              "\n",
              "    outputElement.appendChild(li);\n",
              "\n",
              "    const fileDataPromise = new Promise((resolve) => {\n",
              "      const reader = new FileReader();\n",
              "      reader.onload = (e) => {\n",
              "        resolve(e.target.result);\n",
              "      };\n",
              "      reader.readAsArrayBuffer(file);\n",
              "    });\n",
              "    // Wait for the data to be ready.\n",
              "    let fileData = yield {\n",
              "      promise: fileDataPromise,\n",
              "      response: {\n",
              "        action: 'continue',\n",
              "      }\n",
              "    };\n",
              "\n",
              "    // Use a chunked sending to avoid message size limits. See b/62115660.\n",
              "    let position = 0;\n",
              "    do {\n",
              "      const length = Math.min(fileData.byteLength - position, MAX_PAYLOAD_SIZE);\n",
              "      const chunk = new Uint8Array(fileData, position, length);\n",
              "      position += length;\n",
              "\n",
              "      const base64 = btoa(String.fromCharCode.apply(null, chunk));\n",
              "      yield {\n",
              "        response: {\n",
              "          action: 'append',\n",
              "          file: file.name,\n",
              "          data: base64,\n",
              "        },\n",
              "      };\n",
              "\n",
              "      let percentDone = fileData.byteLength === 0 ?\n",
              "          100 :\n",
              "          Math.round((position / fileData.byteLength) * 100);\n",
              "      percent.textContent = `${percentDone}% done`;\n",
              "\n",
              "    } while (position < fileData.byteLength);\n",
              "  }\n",
              "\n",
              "  // All done.\n",
              "  yield {\n",
              "    response: {\n",
              "      action: 'complete',\n",
              "    }\n",
              "  };\n",
              "}\n",
              "\n",
              "scope.google = scope.google || {};\n",
              "scope.google.colab = scope.google.colab || {};\n",
              "scope.google.colab._files = {\n",
              "  _uploadFiles,\n",
              "  _uploadFilesContinue,\n",
              "};\n",
              "})(self);\n",
              "</script> "
            ]
          },
          "metadata": {}
        },
        {
          "output_type": "stream",
          "name": "stdout",
          "text": [
            "Saving kaggle.json to kaggle.json\n"
          ]
        },
        {
          "output_type": "execute_result",
          "data": {
            "text/plain": [
              "{'kaggle.json': b'{\"username\":\"diarrabell\",\"key\":\"ae3140768a2f7c513228f073eb9ec167\"}'}"
            ]
          },
          "metadata": {},
          "execution_count": 6
        }
      ]
    },
    {
      "cell_type": "code",
      "source": [
        "# make kaggle directory\n",
        "! mkdir ~/.kaggle\n",
        "! cp kaggle.json ~/.kaggle/\n",
        "! chmod 600 ~/.kaggle/kaggle.json"
      ],
      "metadata": {
        "id": "Er1-CTZhG64F"
      },
      "execution_count": 7,
      "outputs": []
    },
    {
      "cell_type": "markdown",
      "source": [
        "Because there are extremely large files in this dataset, we are only downloading files necessary for the project."
      ],
      "metadata": {
        "id": "cyq63SQO3B6Z"
      }
    },
    {
      "cell_type": "code",
      "source": [
        "! kaggle competitions download h-and-m-personalized-fashion-recommendations -f articles.csv -p '{HM_DIR}/data'"
      ],
      "metadata": {
        "id": "-jOBGZNGtA0k",
        "colab": {
          "base_uri": "https://localhost:8080/"
        },
        "outputId": "0cc7523d-0ee3-4ae4-d1c0-caa6b5099abf"
      },
      "execution_count": 8,
      "outputs": [
        {
          "output_type": "stream",
          "name": "stdout",
          "text": [
            "Downloading articles.csv.zip to /content/AIPI-531-Final-Project/H_and_M_Data/data\n",
            "\r  0% 0.00/4.26M [00:00<?, ?B/s]\n",
            "\r100% 4.26M/4.26M [00:00<00:00, 85.5MB/s]\n"
          ]
        }
      ]
    },
    {
      "cell_type": "code",
      "source": [
        "! unzip /content/AIPI-531-Final-Project/H_and_M_Data/data/articles.csv.zip -d /content/AIPI-531-Final-Project/H_and_M_Data/data"
      ],
      "metadata": {
        "colab": {
          "base_uri": "https://localhost:8080/"
        },
        "id": "aShGLmn6JD1k",
        "outputId": "20be3218-0170-47d6-e25a-21de3865e387"
      },
      "execution_count": 9,
      "outputs": [
        {
          "output_type": "stream",
          "name": "stdout",
          "text": [
            "Archive:  /content/AIPI-531-Final-Project/H_and_M_Data/data/articles.csv.zip\n",
            "  inflating: /content/AIPI-531-Final-Project/H_and_M_Data/data/articles.csv  \n"
          ]
        }
      ]
    },
    {
      "cell_type": "code",
      "source": [
        "! kaggle competitions download h-and-m-personalized-fashion-recommendations -f transactions_train.csv -p '{HM_DIR}/data'"
      ],
      "metadata": {
        "id": "rhZdMkoivYiX",
        "colab": {
          "base_uri": "https://localhost:8080/"
        },
        "collapsed": true,
        "outputId": "a4ac8949-bc89-41be-f447-328a214a3f4b"
      },
      "execution_count": 10,
      "outputs": [
        {
          "output_type": "stream",
          "name": "stdout",
          "text": [
            "Downloading transactions_train.csv.zip to /content/AIPI-531-Final-Project/H_and_M_Data/data\n",
            " 98% 573M/584M [00:03<00:00, 189MB/s]\n",
            "100% 584M/584M [00:03<00:00, 179MB/s]\n"
          ]
        }
      ]
    },
    {
      "cell_type": "code",
      "source": [
        "! unzip /content/AIPI-531-Final-Project/H_and_M_Data/data/transactions_train.csv.zip -d /content/AIPI-531-Final-Project/H_and_M_Data/data"
      ],
      "metadata": {
        "colab": {
          "base_uri": "https://localhost:8080/"
        },
        "id": "BRMwSAepJQiZ",
        "outputId": "52d08cd5-71d0-4ffc-8ece-3895dda0eca8"
      },
      "execution_count": 11,
      "outputs": [
        {
          "output_type": "stream",
          "name": "stdout",
          "text": [
            "Archive:  /content/AIPI-531-Final-Project/H_and_M_Data/data/transactions_train.csv.zip\n",
            "  inflating: /content/AIPI-531-Final-Project/H_and_M_Data/data/transactions_train.csv  \n"
          ]
        }
      ]
    },
    {
      "cell_type": "code",
      "execution_count": 12,
      "metadata": {
        "id": "UhNIIoLHm_-u",
        "colab": {
          "base_uri": "https://localhost:8080/"
        },
        "outputId": "9f028c7e-ed4b-4724-c63d-a08495561224"
      },
      "outputs": [
        {
          "output_type": "stream",
          "name": "stdout",
          "text": [
            "2023-05-05 00:44:03.839252: W tensorflow/compiler/tf2tensorrt/utils/py_utils.cc:38] TF-TRT Warning: Could not find TensorRT\n",
            "Started to read and modify transactions_train\n",
            "events df items: 104547\n",
            "There are 104547 total items from transactions_train\n",
            "item properties items: 105542\n",
            "There are 1103326 total sessions after removing sessions with less than 3 interactions\n",
            "Started filtering for the input number of sessions, 10000\n",
            "Finished creating the sorted_events file\n",
            "Started to split the sorted events into train, validation, and test\n",
            "Finished splitting into train, validation, and test sessions\n",
            "/content/AIPI-531-Final-Project/H_and_M_Data/src/item.py:29: SettingWithCopyWarning: \n",
            "A value is trying to be set on a copy of a slice from a DataFrame.\n",
            "Try using .loc[row_indexer,col_indexer] = value instead\n",
            "\n",
            "See the caveats in the documentation: https://pandas.pydata.org/pandas-docs/stable/user_guide/indexing.html#returning-a-view-versus-a-copy\n",
            "  item_properties_df['article_id'] = item_encoder.transform(item_properties_df.article_id)\n",
            "finished creating item features\n",
            "Started to create the popularity dictionary\n",
            "100% 287860/287860 [00:00<00:00, 1616433.47it/s]\n",
            "Finished creating the popularity dictionary\n",
            "Started to create the replay buffer\n",
            "100% 7978/7978 [00:05<00:00, 1575.56it/s]\n",
            "   state_size  item_num\n",
            "0          10    104547\n",
            "Finished creating the replay buffer\n"
          ]
        }
      ],
      "source": [
        "# Create sessions, create popularity dictionary and replay buffer\n",
        "# Because the H&M dataset is so large, we are sampling the total number of sessions (events)\n",
        "!python \"{HM_DIR}/src/main.py\" --data_directory='{HM_DIR}/data' --num_total_sessions=10000"
      ]
    },
    {
      "cell_type": "code",
      "execution_count": 13,
      "metadata": {
        "id": "V-RriHqks9S_",
        "colab": {
          "base_uri": "https://localhost:8080/"
        },
        "outputId": "5b5194cd-1e10-47e0-fa75-6723b70ec8df"
      },
      "outputs": [
        {
          "output_type": "stream",
          "name": "stdout",
          "text": [
            "/content/AIPI-531-Final-Project/H_and_M_Data/src\n"
          ]
        }
      ],
      "source": [
        "%cd '{HM_DIR}/src'"
      ]
    },
    {
      "cell_type": "markdown",
      "source": [
        "### 3. Train SNQN model (without item features)"
      ],
      "metadata": {
        "id": "tRWFTrKj6syA"
      }
    },
    {
      "cell_type": "code",
      "execution_count": 14,
      "metadata": {
        "id": "KkfmmZcXjDyP",
        "colab": {
          "base_uri": "https://localhost:8080/"
        },
        "outputId": "fbaa4d6a-aa98-4184-b312-6d34654bafcd"
      },
      "outputs": [
        {
          "output_type": "stream",
          "name": "stdout",
          "text": [
            "2023-05-05 00:45:30.919896: W tensorflow/compiler/tf2tensorrt/utils/py_utils.cc:38] TF-TRT Warning: Could not find TensorRT\n",
            "/content/AIPI-531-Final-Project/H_and_M_Data/src/SNQN_new.py:82: UserWarning: `tf.nn.rnn_cell.GRUCell` is deprecated and will be removed in a future version. This class is equivalent as `tf.keras.layers.GRUCell`, and will be replaced by that in Tensorflow 2.0.\n",
            "  tf.compat.v1.nn.rnn_cell.GRUCell(self.hidden_size),\n",
            "WARNING:tensorflow:From /content/AIPI-531-Final-Project/H_and_M_Data/src/SNQN_new.py:81: dynamic_rnn (from tensorflow.python.ops.rnn) is deprecated and will be removed in a future version.\n",
            "Instructions for updating:\n",
            "Please use `keras.layers.RNN(cell)`, which is equivalent to this API\n",
            "WARNING:tensorflow:From /usr/local/lib/python3.10/dist-packages/keras/layers/rnn/legacy_cells.py:584: calling Constant.__init__ (from tensorflow.python.ops.init_ops) with dtype is deprecated and will be removed in a future version.\n",
            "Instructions for updating:\n",
            "Call initializer instance with the dtype argument instead of passing it to the constructor\n",
            "WARNING:tensorflow:From /usr/local/lib/python3.10/dist-packages/keras/layers/rnn/legacy_cells.py:598: calling Zeros.__init__ (from tensorflow.python.ops.init_ops) with dtype is deprecated and will be removed in a future version.\n",
            "Instructions for updating:\n",
            "Call initializer instance with the dtype argument instead of passing it to the constructor\n",
            "/content/AIPI-531-Final-Project/H_and_M_Data/src/SNQN_new.py:209: UserWarning: `tf.layers.dense` is deprecated and will be removed in a future version. Please use `tf.keras.layers.Dense` instead.\n",
            "  self.output1 = tf.compat.v1.layers.dense(self.states_hidden, self.item_num,\n",
            "/content/AIPI-531-Final-Project/H_and_M_Data/src/SNQN_new.py:212: UserWarning: `tf.layers.dense` is deprecated and will be removed in a future version. Please use `tf.keras.layers.Dense` instead.\n",
            "  self.output2= tf.compat.v1.layers.dense(self.states_hidden, self.item_num,\n",
            "2023-05-05 00:45:37.123114: W tensorflow/core/common_runtime/gpu/gpu_bfc_allocator.cc:47] Overriding orig_value setting because the TF_FORCE_GPU_ALLOW_GROWTH environment variable is set. Original config value was 0.\n",
            "Epoch 1/10\n",
            "Number of batches: 907\n",
            "the loss in 200th batch is: 11.642572\n",
            "the loss in 400th batch is: 11.182158\n",
            "the loss in 600th batch is: 11.056168\n",
            "the loss in 800th batch is: 10.938232\n",
            "epoch 11 loss: 11.020580291748047\n",
            "Epoch 2/10\n",
            "Number of batches: 907\n",
            "the loss in 1000th batch is: 11.211477\n",
            "the loss in 1200th batch is: 10.740088\n",
            "the loss in 1400th batch is: 10.637846\n",
            "the loss in 1600th batch is: 10.393416\n",
            "the loss in 1800th batch is: 10.516216\n",
            "epoch 11 loss: 10.201370239257812\n",
            "Epoch 3/10\n",
            "Number of batches: 907\n",
            "the loss in 2000th batch is: 10.196200\n",
            "the loss in 2200th batch is: 9.976638\n",
            "the loss in 2400th batch is: 9.812239\n",
            "the loss in 2600th batch is: 9.730206\n",
            "epoch 11 loss: 9.485986709594727\n",
            "Epoch 4/10\n",
            "Number of batches: 907\n",
            "the loss in 2800th batch is: 9.551285\n",
            "the loss in 3000th batch is: 9.764536\n",
            "the loss in 3200th batch is: 9.289589\n",
            "the loss in 3400th batch is: 9.153938\n",
            "the loss in 3600th batch is: 9.216534\n",
            "epoch 11 loss: 9.015655517578125\n",
            "Epoch 5/10\n",
            "Number of batches: 907\n",
            "the loss in 3800th batch is: 9.371917\n",
            "the loss in 4000th batch is: 8.843254\n",
            "the loss in 4200th batch is: 8.941480\n",
            "the loss in 4400th batch is: 8.816508\n",
            "epoch 11 loss: 9.023467063903809\n",
            "Epoch 6/10\n",
            "Number of batches: 907\n",
            "the loss in 4600th batch is: 8.695342\n",
            "the loss in 4800th batch is: 8.578753\n",
            "the loss in 5000th batch is: 8.268672\n",
            "the loss in 5200th batch is: 8.147948\n",
            "the loss in 5400th batch is: 8.305290\n",
            "epoch 11 loss: 8.409677505493164\n",
            "Epoch 7/10\n",
            "Number of batches: 907\n",
            "the loss in 5600th batch is: 8.078881\n",
            "the loss in 5800th batch is: 8.003844\n",
            "the loss in 6000th batch is: 7.688978\n",
            "the loss in 6200th batch is: 7.665656\n",
            "epoch 11 loss: 7.77492094039917\n",
            "Epoch 8/10\n",
            "Number of batches: 907\n",
            "the loss in 6400th batch is: 7.674359\n",
            "the loss in 6600th batch is: 7.190413\n",
            "the loss in 6800th batch is: 7.627470\n",
            "the loss in 7000th batch is: 7.461482\n",
            "the loss in 7200th batch is: 7.390252\n",
            "epoch 11 loss: 7.484305381774902\n",
            "Epoch 9/10\n",
            "Number of batches: 907\n",
            "the loss in 7400th batch is: 6.949629\n",
            "the loss in 7600th batch is: 7.372931\n",
            "the loss in 7800th batch is: 6.807498\n",
            "the loss in 8000th batch is: 6.678607\n",
            "epoch 11 loss: 6.676718235015869\n",
            "Epoch 10/10\n",
            "Number of batches: 907\n",
            "the loss in 8200th batch is: 6.621936\n",
            "the loss in 8400th batch is: 6.560596\n",
            "the loss in 8600th batch is: 6.736607\n",
            "the loss in 8800th batch is: 6.558273\n",
            "the loss in 9000th batch is: 6.376956\n",
            "epoch 11 loss: 6.625380039215088\n",
            "Finished training!\n",
            "evaluating with test data\n",
            "#############################################################\n",
            "total clicks: 0, total purchase:29224\n",
            "~~~~~~~~~~~~~~~~~~~~~~~~~~~~~~~~~~~~~~~~~~~~~~~~~~~~~~~~~~~~~\n",
            "cumulative reward @ 5: 567.000000\n",
            "purchase hr and ndcg @5 : 0.019402, 0.013951\n",
            "~~~~~~~~~~~~~~~~~~~~~~~~~~~~~~~~~~~~~~~~~~~~~~~~~~~~~~~~~~~~~\n",
            "cumulative reward @ 10: 770.000000\n",
            "purchase hr and ndcg @10 : 0.026348, 0.016189\n",
            "~~~~~~~~~~~~~~~~~~~~~~~~~~~~~~~~~~~~~~~~~~~~~~~~~~~~~~~~~~~~~\n",
            "cumulative reward @ 15: 952.000000\n",
            "purchase hr and ndcg @15 : 0.032576, 0.017826\n",
            "~~~~~~~~~~~~~~~~~~~~~~~~~~~~~~~~~~~~~~~~~~~~~~~~~~~~~~~~~~~~~\n",
            "cumulative reward @ 20: 1077.000000\n",
            "purchase hr and ndcg @20 : 0.036853, 0.018838\n",
            "#############################################################\n"
          ]
        }
      ],
      "source": [
        "with tf.device('/GPU:0'):\n",
        "  ! python SNQN_new.py --model=GRU --epoch=10 --data='{HM_DIR}/data'"
      ]
    },
    {
      "cell_type": "markdown",
      "source": [
        "### 4. Train GRU4Rec model (with item features)"
      ],
      "metadata": {
        "id": "Q3oVLeyl63IO"
      }
    },
    {
      "cell_type": "code",
      "source": [
        "with tf.device('/GPU:0'):\n",
        "  ! python SNQN_with_features.py --model=GRU --epoch=10 --data='{HM_DIR}/data' "
      ],
      "metadata": {
        "id": "FjrFvmrT62zx",
        "colab": {
          "base_uri": "https://localhost:8080/"
        },
        "outputId": "6494a9ea-b93c-4285-fac8-500ac3f656dc"
      },
      "execution_count": 15,
      "outputs": [
        {
          "output_type": "stream",
          "name": "stdout",
          "text": [
            "2023-05-05 01:21:53.943696: W tensorflow/compiler/tf2tensorrt/utils/py_utils.cc:38] TF-TRT Warning: Could not find TensorRT\n",
            "/content/AIPI-531-Final-Project/H_and_M_Data/src/SNQN_with_features.py:83: UserWarning: `tf.nn.rnn_cell.GRUCell` is deprecated and will be removed in a future version. This class is equivalent as `tf.keras.layers.GRUCell`, and will be replaced by that in Tensorflow 2.0.\n",
            "  tf.compat.v1.nn.rnn_cell.GRUCell(self.hidden_size),\n",
            "WARNING:tensorflow:From /content/AIPI-531-Final-Project/H_and_M_Data/src/SNQN_with_features.py:82: dynamic_rnn (from tensorflow.python.ops.rnn) is deprecated and will be removed in a future version.\n",
            "Instructions for updating:\n",
            "Please use `keras.layers.RNN(cell)`, which is equivalent to this API\n",
            "WARNING:tensorflow:From /usr/local/lib/python3.10/dist-packages/keras/layers/rnn/legacy_cells.py:584: calling Constant.__init__ (from tensorflow.python.ops.init_ops) with dtype is deprecated and will be removed in a future version.\n",
            "Instructions for updating:\n",
            "Call initializer instance with the dtype argument instead of passing it to the constructor\n",
            "WARNING:tensorflow:From /usr/local/lib/python3.10/dist-packages/keras/layers/rnn/legacy_cells.py:598: calling Zeros.__init__ (from tensorflow.python.ops.init_ops) with dtype is deprecated and will be removed in a future version.\n",
            "Instructions for updating:\n",
            "Call initializer instance with the dtype argument instead of passing it to the constructor\n",
            "/content/AIPI-531-Final-Project/H_and_M_Data/src/SNQN_with_features.py:210: UserWarning: `tf.layers.dense` is deprecated and will be removed in a future version. Please use `tf.keras.layers.Dense` instead.\n",
            "  self.output1 = tf.compat.v1.layers.dense(self.states_hidden, self.item_num,\n",
            "/content/AIPI-531-Final-Project/H_and_M_Data/src/SNQN_with_features.py:213: UserWarning: `tf.layers.dense` is deprecated and will be removed in a future version. Please use `tf.keras.layers.Dense` instead.\n",
            "  self.output2= tf.compat.v1.layers.dense(self.states_hidden, self.item_num,\n",
            "/content/AIPI-531-Final-Project/H_and_M_Data/src/SNQN_with_features.py:219: UserWarning: `tf.layers.dense` is deprecated and will be removed in a future version. Please use `tf.keras.layers.Dense` instead.\n",
            "  item_embeddings_and_bias = tf.compat.v1.layers.dense(self.item_features, self.hidden_size+1, activation=None)\n",
            "2023-05-05 01:21:59.181437: W tensorflow/core/common_runtime/gpu/gpu_bfc_allocator.cc:47] Overriding orig_value setting because the TF_FORCE_GPU_ALLOW_GROWTH environment variable is set. Original config value was 0.\n",
            "Number of rows: 232255\n",
            "Number of batches: 907\n",
            "Epoch 1/10\n",
            "Number of batches: 907\n",
            "the loss in 200th batch is: 19.655628\n",
            "the loss in 400th batch is: 20.137747\n",
            "the loss in 600th batch is: 16.868568\n",
            "the loss in 800th batch is: 15.327360\n",
            "Epoch 2/10\n",
            "Number of batches: 907\n",
            "the loss in 1000th batch is: 13.229239\n",
            "the loss in 1200th batch is: 13.928364\n",
            "the loss in 1400th batch is: 13.417736\n",
            "the loss in 1600th batch is: 13.473520\n",
            "the loss in 1800th batch is: 11.397166\n",
            "Epoch 3/10\n",
            "Number of batches: 907\n",
            "the loss in 2000th batch is: 11.367443\n",
            "the loss in 2200th batch is: 13.937797\n",
            "the loss in 2400th batch is: 12.096523\n",
            "the loss in 2600th batch is: 18.861736\n",
            "Epoch 4/10\n",
            "Number of batches: 907\n",
            "the loss in 2800th batch is: 11.902871\n",
            "the loss in 3000th batch is: 12.100889\n",
            "the loss in 3200th batch is: 9.995322\n",
            "the loss in 3400th batch is: 12.527170\n",
            "the loss in 3600th batch is: 12.312734\n",
            "Epoch 5/10\n",
            "Number of batches: 907\n",
            "the loss in 3800th batch is: 11.390614\n",
            "the loss in 4000th batch is: 11.943542\n",
            "Evaluating with val sessions\n",
            "#############################################################\n",
            "total clicks: 0, total purchase:26381\n",
            "~~~~~~~~~~~~~~~~~~~~~~~~~~~~~~~~~~~~~~~~~~~~~~~~~~~~~~~~~~~~~\n",
            "cumulative reward @ 5: 115.000000\n",
            "purchase hr and ndcg @5 : 0.004359, 0.002942\n",
            "~~~~~~~~~~~~~~~~~~~~~~~~~~~~~~~~~~~~~~~~~~~~~~~~~~~~~~~~~~~~~\n",
            "cumulative reward @ 10: 180.000000\n",
            "purchase hr and ndcg @10 : 0.006823, 0.003734\n",
            "~~~~~~~~~~~~~~~~~~~~~~~~~~~~~~~~~~~~~~~~~~~~~~~~~~~~~~~~~~~~~\n",
            "cumulative reward @ 15: 234.000000\n",
            "purchase hr and ndcg @15 : 0.008870, 0.004275\n",
            "~~~~~~~~~~~~~~~~~~~~~~~~~~~~~~~~~~~~~~~~~~~~~~~~~~~~~~~~~~~~~\n",
            "cumulative reward @ 20: 311.000000\n",
            "purchase hr and ndcg @20 : 0.011789, 0.004962\n",
            "#############################################################\n",
            "the loss in 4200th batch is: 11.238173\n",
            "the loss in 4400th batch is: 9.827620\n",
            "Epoch 6/10\n",
            "Number of batches: 907\n",
            "the loss in 4600th batch is: 10.798497\n",
            "the loss in 4800th batch is: 10.332469\n",
            "the loss in 5000th batch is: 11.374764\n",
            "the loss in 5200th batch is: 11.847646\n",
            "the loss in 5400th batch is: 9.020782\n",
            "Epoch 7/10\n",
            "Number of batches: 907\n",
            "the loss in 5600th batch is: 9.133722\n",
            "the loss in 5800th batch is: 10.473514\n",
            "the loss in 6000th batch is: 10.460594\n",
            "the loss in 6200th batch is: 9.034014\n",
            "Epoch 8/10\n",
            "Number of batches: 907\n",
            "the loss in 6400th batch is: 8.758994\n",
            "the loss in 6600th batch is: 12.101099\n",
            "the loss in 6800th batch is: 10.278748\n",
            "the loss in 7000th batch is: 8.947638\n",
            "the loss in 7200th batch is: 10.765275\n",
            "Epoch 9/10\n",
            "Number of batches: 907\n",
            "the loss in 7400th batch is: 9.608103\n",
            "the loss in 7600th batch is: 8.546558\n",
            "the loss in 7800th batch is: 8.820724\n",
            "the loss in 8000th batch is: 8.427809\n",
            "Evaluating with val sessions\n",
            "#############################################################\n",
            "total clicks: 0, total purchase:26381\n",
            "~~~~~~~~~~~~~~~~~~~~~~~~~~~~~~~~~~~~~~~~~~~~~~~~~~~~~~~~~~~~~\n",
            "cumulative reward @ 5: 114.000000\n",
            "purchase hr and ndcg @5 : 0.004321, 0.002919\n",
            "~~~~~~~~~~~~~~~~~~~~~~~~~~~~~~~~~~~~~~~~~~~~~~~~~~~~~~~~~~~~~\n",
            "cumulative reward @ 10: 174.000000\n",
            "purchase hr and ndcg @10 : 0.006596, 0.003645\n",
            "~~~~~~~~~~~~~~~~~~~~~~~~~~~~~~~~~~~~~~~~~~~~~~~~~~~~~~~~~~~~~\n",
            "cumulative reward @ 15: 238.000000\n",
            "purchase hr and ndcg @15 : 0.009022, 0.004289\n",
            "~~~~~~~~~~~~~~~~~~~~~~~~~~~~~~~~~~~~~~~~~~~~~~~~~~~~~~~~~~~~~\n",
            "cumulative reward @ 20: 291.000000\n",
            "purchase hr and ndcg @20 : 0.011031, 0.004763\n",
            "#############################################################\n",
            "Epoch 10/10\n",
            "Number of batches: 907\n",
            "the loss in 8200th batch is: 10.428243\n",
            "the loss in 8400th batch is: 8.915922\n",
            "the loss in 8600th batch is: 9.645159\n",
            "the loss in 8800th batch is: 8.529565\n",
            "the loss in 9000th batch is: 10.793345\n",
            "Finished training\n",
            "Evaluating with test sessions\n",
            "#############################################################\n",
            "total clicks: 0, total purchase:29224\n",
            "~~~~~~~~~~~~~~~~~~~~~~~~~~~~~~~~~~~~~~~~~~~~~~~~~~~~~~~~~~~~~\n",
            "cumulative reward @ 5: 161.000000\n",
            "purchase hr and ndcg @5 : 0.005509, 0.003507\n",
            "~~~~~~~~~~~~~~~~~~~~~~~~~~~~~~~~~~~~~~~~~~~~~~~~~~~~~~~~~~~~~\n",
            "cumulative reward @ 10: 207.000000\n",
            "purchase hr and ndcg @10 : 0.007083, 0.004019\n",
            "~~~~~~~~~~~~~~~~~~~~~~~~~~~~~~~~~~~~~~~~~~~~~~~~~~~~~~~~~~~~~\n",
            "cumulative reward @ 15: 270.000000\n",
            "purchase hr and ndcg @15 : 0.009239, 0.004590\n",
            "~~~~~~~~~~~~~~~~~~~~~~~~~~~~~~~~~~~~~~~~~~~~~~~~~~~~~~~~~~~~~\n",
            "cumulative reward @ 20: 334.000000\n",
            "purchase hr and ndcg @20 : 0.011429, 0.005109\n",
            "#############################################################\n"
          ]
        }
      ]
    }
  ],
  "metadata": {
    "accelerator": "GPU",
    "colab": {
      "machine_shape": "hm",
      "provenance": [],
      "gpuType": "T4",
      "include_colab_link": true
    },
    "gpuClass": "standard",
    "kernelspec": {
      "display_name": "Python 3",
      "language": "python",
      "name": "python3"
    },
    "language_info": {
      "name": "python",
      "version": "3.11.0"
    },
    "vscode": {
      "interpreter": {
        "hash": "aee8b7b246df8f9039afb4144a1f6fd8d2ca17a180786b69acc140d282b71a49"
      }
    }
  },
  "nbformat": 4,
  "nbformat_minor": 0
}
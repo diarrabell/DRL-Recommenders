{
  "cells": [
    {
      "cell_type": "code",
      "execution_count": 1,
      "metadata": {
        "colab": {
          "base_uri": "https://localhost:8080/"
        },
        "id": "FH6zw6WDWRp4",
        "outputId": "f02ee3bf-6836-4d4f-88ad-373e62b6d358"
      },
      "outputs": [
        {
          "name": "stdout",
          "output_type": "stream",
          "text": [
            "enter git token··········\n",
            "Cloning into 'AIPI-531-Final-Project'...\n",
            "remote: Enumerating objects: 24, done.\u001b[K\n",
            "remote: Counting objects: 100% (10/10), done.\u001b[K\n",
            "remote: Compressing objects: 100% (9/9), done.\u001b[K\n",
            "remote: Total 24 (delta 1), reused 7 (delta 1), pack-reused 14\u001b[K\n",
            "Unpacking objects: 100% (24/24), 77.15 MiB | 9.80 MiB/s, done.\n"
          ]
        }
      ],
      "source": [
        "import os\n",
        "import getpass\n",
        "\n",
        "# Remove Colab default sample_data\n",
        "!rm -r ./sample_data\n",
        "\n",
        "# # Clone GitHub files to colab workspace\n",
        "git_user = \"sfhorng\" # Enter user or organization name\n",
        "git_email = \"sh390@duke.edu\" # Enter your email\n",
        "repo_name = \"AIPI-531-Final-Project\" # Enter repo name\n",
        "git_token = getpass.getpass(\"enter git token\") # Enter your github token \n",
        "git_path = f\"https://{git_token}@github.com/{git_user}/{repo_name}.git\"\n",
        "!git clone \"{git_path}\""
      ]
    },
    {
      "cell_type": "code",
      "execution_count": 2,
      "metadata": {
        "colab": {
          "base_uri": "https://localhost:8080/"
        },
        "id": "Vkk8_19Nn2nB",
        "outputId": "443b332b-4d3a-4fd6-c8bd-4a386c733fb3"
      },
      "outputs": [
        {
          "name": "stdout",
          "output_type": "stream",
          "text": [
            "Looking in indexes: https://pypi.org/simple, https://us-python.pkg.dev/colab-wheels/public/simple/\n",
            "Collecting trfl\n",
            "  Downloading trfl-1.2.0-py3-none-any.whl (104 kB)\n",
            "\u001b[2K     \u001b[90m━━━━━━━━━━━━━━━━━━━━━━━━━━━━━━━━━━━━━\u001b[0m \u001b[32m104.3/104.3 kB\u001b[0m \u001b[31m791.3 kB/s\u001b[0m eta \u001b[36m0:00:00\u001b[0m\n",
            "\u001b[?25hRequirement already satisfied: numpy in /usr/local/lib/python3.9/dist-packages (from -r /content/AIPI-531-Final-Project/DRL_Recommender/H_and_M_Data/requirements.txt (line 2)) (1.22.4)\n",
            "Requirement already satisfied: pandas in /usr/local/lib/python3.9/dist-packages (from -r /content/AIPI-531-Final-Project/DRL_Recommender/H_and_M_Data/requirements.txt (line 3)) (1.5.3)\n",
            "Requirement already satisfied: tensorflow in /usr/local/lib/python3.9/dist-packages (from -r /content/AIPI-531-Final-Project/DRL_Recommender/H_and_M_Data/requirements.txt (line 4)) (2.12.0)\n",
            "Requirement already satisfied: scikit-learn in /usr/local/lib/python3.9/dist-packages (from -r /content/AIPI-531-Final-Project/DRL_Recommender/H_and_M_Data/requirements.txt (line 5)) (1.2.2)\n",
            "Requirement already satisfied: six in /usr/local/lib/python3.9/dist-packages (from trfl->-r /content/AIPI-531-Final-Project/DRL_Recommender/H_and_M_Data/requirements.txt (line 1)) (1.16.0)\n",
            "Requirement already satisfied: dm-tree in /usr/local/lib/python3.9/dist-packages (from trfl->-r /content/AIPI-531-Final-Project/DRL_Recommender/H_and_M_Data/requirements.txt (line 1)) (0.1.8)\n",
            "Requirement already satisfied: absl-py in /usr/local/lib/python3.9/dist-packages (from trfl->-r /content/AIPI-531-Final-Project/DRL_Recommender/H_and_M_Data/requirements.txt (line 1)) (1.4.0)\n",
            "Requirement already satisfied: wrapt in /usr/local/lib/python3.9/dist-packages (from trfl->-r /content/AIPI-531-Final-Project/DRL_Recommender/H_and_M_Data/requirements.txt (line 1)) (1.14.1)\n",
            "Requirement already satisfied: pytz>=2020.1 in /usr/local/lib/python3.9/dist-packages (from pandas->-r /content/AIPI-531-Final-Project/DRL_Recommender/H_and_M_Data/requirements.txt (line 3)) (2022.7.1)\n",
            "Requirement already satisfied: python-dateutil>=2.8.1 in /usr/local/lib/python3.9/dist-packages (from pandas->-r /content/AIPI-531-Final-Project/DRL_Recommender/H_and_M_Data/requirements.txt (line 3)) (2.8.2)\n",
            "Requirement already satisfied: protobuf!=4.21.0,!=4.21.1,!=4.21.2,!=4.21.3,!=4.21.4,!=4.21.5,<5.0.0dev,>=3.20.3 in /usr/local/lib/python3.9/dist-packages (from tensorflow->-r /content/AIPI-531-Final-Project/DRL_Recommender/H_and_M_Data/requirements.txt (line 4)) (3.20.3)\n",
            "Requirement already satisfied: libclang>=13.0.0 in /usr/local/lib/python3.9/dist-packages (from tensorflow->-r /content/AIPI-531-Final-Project/DRL_Recommender/H_and_M_Data/requirements.txt (line 4)) (16.0.0)\n",
            "Requirement already satisfied: h5py>=2.9.0 in /usr/local/lib/python3.9/dist-packages (from tensorflow->-r /content/AIPI-531-Final-Project/DRL_Recommender/H_and_M_Data/requirements.txt (line 4)) (3.8.0)\n",
            "Requirement already satisfied: flatbuffers>=2.0 in /usr/local/lib/python3.9/dist-packages (from tensorflow->-r /content/AIPI-531-Final-Project/DRL_Recommender/H_and_M_Data/requirements.txt (line 4)) (23.3.3)\n",
            "Requirement already satisfied: tensorflow-estimator<2.13,>=2.12.0 in /usr/local/lib/python3.9/dist-packages (from tensorflow->-r /content/AIPI-531-Final-Project/DRL_Recommender/H_and_M_Data/requirements.txt (line 4)) (2.12.0)\n",
            "Requirement already satisfied: grpcio<2.0,>=1.24.3 in /usr/local/lib/python3.9/dist-packages (from tensorflow->-r /content/AIPI-531-Final-Project/DRL_Recommender/H_and_M_Data/requirements.txt (line 4)) (1.53.0)\n",
            "Requirement already satisfied: astunparse>=1.6.0 in /usr/local/lib/python3.9/dist-packages (from tensorflow->-r /content/AIPI-531-Final-Project/DRL_Recommender/H_and_M_Data/requirements.txt (line 4)) (1.6.3)\n",
            "Requirement already satisfied: opt-einsum>=2.3.2 in /usr/local/lib/python3.9/dist-packages (from tensorflow->-r /content/AIPI-531-Final-Project/DRL_Recommender/H_and_M_Data/requirements.txt (line 4)) (3.3.0)\n",
            "Requirement already satisfied: google-pasta>=0.1.1 in /usr/local/lib/python3.9/dist-packages (from tensorflow->-r /content/AIPI-531-Final-Project/DRL_Recommender/H_and_M_Data/requirements.txt (line 4)) (0.2.0)\n",
            "Requirement already satisfied: keras<2.13,>=2.12.0 in /usr/local/lib/python3.9/dist-packages (from tensorflow->-r /content/AIPI-531-Final-Project/DRL_Recommender/H_and_M_Data/requirements.txt (line 4)) (2.12.0)\n",
            "Requirement already satisfied: setuptools in /usr/local/lib/python3.9/dist-packages (from tensorflow->-r /content/AIPI-531-Final-Project/DRL_Recommender/H_and_M_Data/requirements.txt (line 4)) (67.6.1)\n",
            "Requirement already satisfied: tensorboard<2.13,>=2.12 in /usr/local/lib/python3.9/dist-packages (from tensorflow->-r /content/AIPI-531-Final-Project/DRL_Recommender/H_and_M_Data/requirements.txt (line 4)) (2.12.1)\n",
            "Requirement already satisfied: gast<=0.4.0,>=0.2.1 in /usr/local/lib/python3.9/dist-packages (from tensorflow->-r /content/AIPI-531-Final-Project/DRL_Recommender/H_and_M_Data/requirements.txt (line 4)) (0.4.0)\n",
            "Requirement already satisfied: termcolor>=1.1.0 in /usr/local/lib/python3.9/dist-packages (from tensorflow->-r /content/AIPI-531-Final-Project/DRL_Recommender/H_and_M_Data/requirements.txt (line 4)) (2.2.0)\n",
            "Requirement already satisfied: jax>=0.3.15 in /usr/local/lib/python3.9/dist-packages (from tensorflow->-r /content/AIPI-531-Final-Project/DRL_Recommender/H_and_M_Data/requirements.txt (line 4)) (0.4.8)\n",
            "Requirement already satisfied: packaging in /usr/local/lib/python3.9/dist-packages (from tensorflow->-r /content/AIPI-531-Final-Project/DRL_Recommender/H_and_M_Data/requirements.txt (line 4)) (23.0)\n",
            "Requirement already satisfied: typing-extensions>=3.6.6 in /usr/local/lib/python3.9/dist-packages (from tensorflow->-r /content/AIPI-531-Final-Project/DRL_Recommender/H_and_M_Data/requirements.txt (line 4)) (4.5.0)\n",
            "Requirement already satisfied: tensorflow-io-gcs-filesystem>=0.23.1 in /usr/local/lib/python3.9/dist-packages (from tensorflow->-r /content/AIPI-531-Final-Project/DRL_Recommender/H_and_M_Data/requirements.txt (line 4)) (0.32.0)\n",
            "Requirement already satisfied: threadpoolctl>=2.0.0 in /usr/local/lib/python3.9/dist-packages (from scikit-learn->-r /content/AIPI-531-Final-Project/DRL_Recommender/H_and_M_Data/requirements.txt (line 5)) (3.1.0)\n",
            "Requirement already satisfied: scipy>=1.3.2 in /usr/local/lib/python3.9/dist-packages (from scikit-learn->-r /content/AIPI-531-Final-Project/DRL_Recommender/H_and_M_Data/requirements.txt (line 5)) (1.10.1)\n",
            "Requirement already satisfied: joblib>=1.1.1 in /usr/local/lib/python3.9/dist-packages (from scikit-learn->-r /content/AIPI-531-Final-Project/DRL_Recommender/H_and_M_Data/requirements.txt (line 5)) (1.2.0)\n",
            "Requirement already satisfied: wheel<1.0,>=0.23.0 in /usr/local/lib/python3.9/dist-packages (from astunparse>=1.6.0->tensorflow->-r /content/AIPI-531-Final-Project/DRL_Recommender/H_and_M_Data/requirements.txt (line 4)) (0.40.0)\n",
            "Requirement already satisfied: ml-dtypes>=0.0.3 in /usr/local/lib/python3.9/dist-packages (from jax>=0.3.15->tensorflow->-r /content/AIPI-531-Final-Project/DRL_Recommender/H_and_M_Data/requirements.txt (line 4)) (0.0.4)\n",
            "Requirement already satisfied: werkzeug>=1.0.1 in /usr/local/lib/python3.9/dist-packages (from tensorboard<2.13,>=2.12->tensorflow->-r /content/AIPI-531-Final-Project/DRL_Recommender/H_and_M_Data/requirements.txt (line 4)) (2.2.3)\n",
            "Requirement already satisfied: google-auth-oauthlib<1.1,>=0.5 in /usr/local/lib/python3.9/dist-packages (from tensorboard<2.13,>=2.12->tensorflow->-r /content/AIPI-531-Final-Project/DRL_Recommender/H_and_M_Data/requirements.txt (line 4)) (1.0.0)\n",
            "Requirement already satisfied: markdown>=2.6.8 in /usr/local/lib/python3.9/dist-packages (from tensorboard<2.13,>=2.12->tensorflow->-r /content/AIPI-531-Final-Project/DRL_Recommender/H_and_M_Data/requirements.txt (line 4)) (3.4.3)\n",
            "Requirement already satisfied: requests<3,>=2.21.0 in /usr/local/lib/python3.9/dist-packages (from tensorboard<2.13,>=2.12->tensorflow->-r /content/AIPI-531-Final-Project/DRL_Recommender/H_and_M_Data/requirements.txt (line 4)) (2.27.1)\n",
            "Requirement already satisfied: tensorboard-data-server<0.8.0,>=0.7.0 in /usr/local/lib/python3.9/dist-packages (from tensorboard<2.13,>=2.12->tensorflow->-r /content/AIPI-531-Final-Project/DRL_Recommender/H_and_M_Data/requirements.txt (line 4)) (0.7.0)\n",
            "Requirement already satisfied: tensorboard-plugin-wit>=1.6.0 in /usr/local/lib/python3.9/dist-packages (from tensorboard<2.13,>=2.12->tensorflow->-r /content/AIPI-531-Final-Project/DRL_Recommender/H_and_M_Data/requirements.txt (line 4)) (1.8.1)\n",
            "Requirement already satisfied: google-auth<3,>=1.6.3 in /usr/local/lib/python3.9/dist-packages (from tensorboard<2.13,>=2.12->tensorflow->-r /content/AIPI-531-Final-Project/DRL_Recommender/H_and_M_Data/requirements.txt (line 4)) (2.17.2)\n",
            "Requirement already satisfied: rsa<5,>=3.1.4 in /usr/local/lib/python3.9/dist-packages (from google-auth<3,>=1.6.3->tensorboard<2.13,>=2.12->tensorflow->-r /content/AIPI-531-Final-Project/DRL_Recommender/H_and_M_Data/requirements.txt (line 4)) (4.9)\n",
            "Requirement already satisfied: cachetools<6.0,>=2.0.0 in /usr/local/lib/python3.9/dist-packages (from google-auth<3,>=1.6.3->tensorboard<2.13,>=2.12->tensorflow->-r /content/AIPI-531-Final-Project/DRL_Recommender/H_and_M_Data/requirements.txt (line 4)) (5.3.0)\n",
            "Requirement already satisfied: pyasn1-modules>=0.2.1 in /usr/local/lib/python3.9/dist-packages (from google-auth<3,>=1.6.3->tensorboard<2.13,>=2.12->tensorflow->-r /content/AIPI-531-Final-Project/DRL_Recommender/H_and_M_Data/requirements.txt (line 4)) (0.2.8)\n",
            "Requirement already satisfied: requests-oauthlib>=0.7.0 in /usr/local/lib/python3.9/dist-packages (from google-auth-oauthlib<1.1,>=0.5->tensorboard<2.13,>=2.12->tensorflow->-r /content/AIPI-531-Final-Project/DRL_Recommender/H_and_M_Data/requirements.txt (line 4)) (1.3.1)\n",
            "Requirement already satisfied: importlib-metadata>=4.4 in /usr/local/lib/python3.9/dist-packages (from markdown>=2.6.8->tensorboard<2.13,>=2.12->tensorflow->-r /content/AIPI-531-Final-Project/DRL_Recommender/H_and_M_Data/requirements.txt (line 4)) (6.3.0)\n",
            "Requirement already satisfied: idna<4,>=2.5 in /usr/local/lib/python3.9/dist-packages (from requests<3,>=2.21.0->tensorboard<2.13,>=2.12->tensorflow->-r /content/AIPI-531-Final-Project/DRL_Recommender/H_and_M_Data/requirements.txt (line 4)) (3.4)\n",
            "Requirement already satisfied: urllib3<1.27,>=1.21.1 in /usr/local/lib/python3.9/dist-packages (from requests<3,>=2.21.0->tensorboard<2.13,>=2.12->tensorflow->-r /content/AIPI-531-Final-Project/DRL_Recommender/H_and_M_Data/requirements.txt (line 4)) (1.26.15)\n",
            "Requirement already satisfied: certifi>=2017.4.17 in /usr/local/lib/python3.9/dist-packages (from requests<3,>=2.21.0->tensorboard<2.13,>=2.12->tensorflow->-r /content/AIPI-531-Final-Project/DRL_Recommender/H_and_M_Data/requirements.txt (line 4)) (2022.12.7)\n",
            "Requirement already satisfied: charset-normalizer~=2.0.0 in /usr/local/lib/python3.9/dist-packages (from requests<3,>=2.21.0->tensorboard<2.13,>=2.12->tensorflow->-r /content/AIPI-531-Final-Project/DRL_Recommender/H_and_M_Data/requirements.txt (line 4)) (2.0.12)\n",
            "Requirement already satisfied: MarkupSafe>=2.1.1 in /usr/local/lib/python3.9/dist-packages (from werkzeug>=1.0.1->tensorboard<2.13,>=2.12->tensorflow->-r /content/AIPI-531-Final-Project/DRL_Recommender/H_and_M_Data/requirements.txt (line 4)) (2.1.2)\n",
            "Requirement already satisfied: zipp>=0.5 in /usr/local/lib/python3.9/dist-packages (from importlib-metadata>=4.4->markdown>=2.6.8->tensorboard<2.13,>=2.12->tensorflow->-r /content/AIPI-531-Final-Project/DRL_Recommender/H_and_M_Data/requirements.txt (line 4)) (3.15.0)\n",
            "Requirement already satisfied: pyasn1<0.5.0,>=0.4.6 in /usr/local/lib/python3.9/dist-packages (from pyasn1-modules>=0.2.1->google-auth<3,>=1.6.3->tensorboard<2.13,>=2.12->tensorflow->-r /content/AIPI-531-Final-Project/DRL_Recommender/H_and_M_Data/requirements.txt (line 4)) (0.4.8)\n",
            "Requirement already satisfied: oauthlib>=3.0.0 in /usr/local/lib/python3.9/dist-packages (from requests-oauthlib>=0.7.0->google-auth-oauthlib<1.1,>=0.5->tensorboard<2.13,>=2.12->tensorflow->-r /content/AIPI-531-Final-Project/DRL_Recommender/H_and_M_Data/requirements.txt (line 4)) (3.2.2)\n",
            "Installing collected packages: trfl\n",
            "Successfully installed trfl-1.2.0\n"
          ]
        }
      ],
      "source": [
        "# Install dependencies from requirements.txt file\n",
        "%pip install -r {os.path.join(os.getcwd(),'requirements.txt')}"
      ]
    },
    {
      "cell_type": "code",
      "execution_count": null,
      "metadata": {
        "colab": {
          "base_uri": "https://localhost:8080/",
          "height": 90
        },
        "id": "P7CNqd_sWoYp",
        "outputId": "66af07ec-eab3-442a-f2e3-7af1c140a927"
      },
      "outputs": [],
      "source": [
        "# Upload kaggle.json credentials for downloading with the API\n",
        "from google.colab import files\n",
        "files.upload()"
      ]
    },
    {
      "cell_type": "code",
      "execution_count": 9,
      "metadata": {
        "colab": {
          "base_uri": "https://localhost:8080/"
        },
        "id": "UhNIIoLHm_-u",
        "outputId": "d504df1e-7d49-46ce-a4e1-0c839fa44504"
      },
      "outputs": [
        {
          "name": "stdout",
          "output_type": "stream",
          "text": [
            "2023-04-16 19:10:13.486712: W tensorflow/compiler/tf2tensorrt/utils/py_utils.cc:38] TF-TRT Warning: Could not find TensorRT\n",
            "Directory passed in for H&M data: /content/AIPI-531-Final-Project/DRL_Recommender/H_and_M_Data/data\n",
            "mkdir: cannot create directory ‘/root/.kaggle’: File exists\n",
            "cp: cannot stat 'kaggle.json': No such file or directory\n",
            "Downloading transactions_train.csv.zip to /content/AIPI-531-Final-Project/DRL_Recommender/H_and_M_Data/src\n",
            "100% 582M/584M [00:20<00:00, 29.6MB/s]\n",
            "100% 584M/584M [00:20<00:00, 29.3MB/s]\n",
            "Archive:  transactions_train.csv.zip\n",
            "  inflating: transactions_train.csv  \n",
            "Finished downloading to /content/AIPI-531-Final-Project/DRL_Recommender/H_and_M_Data/data\n",
            "Started to read and modify transactions_train\n",
            "There are 104547 total items from transactions_train\n",
            "There are 1103326 total sessions after removing sessions with less than 3 interactions\n",
            "Started filtering for the input number of sessions, 5000\n",
            "Finished creating the sorted_events file\n",
            "Started to split the sorted events into train, validation, and test\n",
            "Finished splitting into train, validation, and test sessions\n",
            "Started to create the popularity dictionary\n",
            "100% 143998/143998 [00:00<00:00, 1841303.20it/s]\n",
            "Finished creating the popularity dictionary\n",
            "Started to create the replay buffer\n",
            "100% 3990/3990 [00:02<00:00, 1629.48it/s]\n",
            "   state_size  item_num\n",
            "0          10    104547\n",
            "Finished creating the replay buffer\n"
          ]
        }
      ],
      "source": [
        "# Download dataset, create sessions, create popularity dictionary and replay buffer\n",
        "HM_DIR = '/content/AIPI-531-Final-Project/H_and_M_Data'\n",
        "!python \"{HM_DIR}/src/main_setup.py\" --data_directory='{HM_DIR}/data' --num_total_sessions=20000"
      ]
    },
    {
      "cell_type": "code",
      "execution_count": 10,
      "metadata": {
        "colab": {
          "base_uri": "https://localhost:8080/"
        },
        "id": "V-RriHqks9S_",
        "outputId": "0bba0ee0-be90-43e8-c792-9ddc45b1f1f6"
      },
      "outputs": [
        {
          "name": "stdout",
          "output_type": "stream",
          "text": [
            "/content/AIPI-531-Final-Project/DRL_Recommender/H_and_M_Data/src\n",
            "2023-04-16 19:12:43.625909: W tensorflow/compiler/tf2tensorrt/utils/py_utils.cc:38] TF-TRT Warning: Could not find TensorRT\n",
            "/content/AIPI-531-Final-Project/DRL_Recommender/H_and_M_Data/src/SA2C_new.py:88: UserWarning: `tf.nn.rnn_cell.GRUCell` is deprecated and will be removed in a future version. This class is equivalent as `tf.keras.layers.GRUCell`, and will be replaced by that in Tensorflow 2.0.\n",
            "  tf.compat.v1.nn.rnn_cell.GRUCell(self.hidden_size),\n",
            "WARNING:tensorflow:From /content/AIPI-531-Final-Project/DRL_Recommender/H_and_M_Data/src/SA2C_new.py:87: dynamic_rnn (from tensorflow.python.ops.rnn) is deprecated and will be removed in a future version.\n",
            "Instructions for updating:\n",
            "Please use `keras.layers.RNN(cell)`, which is equivalent to this API\n",
            "WARNING:tensorflow:From /usr/local/lib/python3.9/dist-packages/keras/layers/rnn/legacy_cells.py:584: calling Constant.__init__ (from tensorflow.python.ops.init_ops) with dtype is deprecated and will be removed in a future version.\n",
            "Instructions for updating:\n",
            "Call initializer instance with the dtype argument instead of passing it to the constructor\n",
            "WARNING:tensorflow:From /usr/local/lib/python3.9/dist-packages/keras/layers/rnn/legacy_cells.py:598: calling Zeros.__init__ (from tensorflow.python.ops.init_ops) with dtype is deprecated and will be removed in a future version.\n",
            "Instructions for updating:\n",
            "Call initializer instance with the dtype argument instead of passing it to the constructor\n",
            "/content/AIPI-531-Final-Project/DRL_Recommender/H_and_M_Data/src/SA2C_new.py:215: UserWarning: `tf.layers.dense` is deprecated and will be removed in a future version. Please use `tf.keras.layers.Dense` instead.\n",
            "  self.output1 = tf.compat.v1.layers.dense(self.states_hidden, self.item_num,\n",
            "/content/AIPI-531-Final-Project/DRL_Recommender/H_and_M_Data/src/SA2C_new.py:218: UserWarning: `tf.layers.dense` is deprecated and will be removed in a future version. Please use `tf.keras.layers.Dense` instead.\n",
            "  self.output2= tf.compat.v1.layers.dense(self.states_hidden, self.item_num,\n",
            "2023-04-16 19:12:51.337288: W tensorflow/core/common_runtime/gpu/gpu_bfc_allocator.cc:47] Overriding orig_value setting because the TF_FORCE_GPU_ALLOW_GROWTH environment variable is set. Original config value was 0.\n",
            "the loss in 200th batch is: 11.526231\n",
            "the loss in 400th batch is: 11.378559\n",
            "the loss in 600th batch is: 10.699265\n",
            "Traceback (most recent call last):\n",
            "  File \"/content/AIPI-531-Final-Project/DRL_Recommender/H_and_M_Data/src/SA2C_new.py\", line 443, in <module>\n",
            "    target_Q__current_selector = sess.run(mainQN.output1,\n",
            "  File \"/usr/local/lib/python3.9/dist-packages/tensorflow/python/client/session.py\", line 968, in run\n",
            "    result = self._run(None, fetches, feed_dict, options_ptr,\n",
            "  File \"/usr/local/lib/python3.9/dist-packages/tensorflow/python/client/session.py\", line 1191, in _run\n",
            "    results = self._do_run(handle, final_targets, final_fetches,\n",
            "  File \"/usr/local/lib/python3.9/dist-packages/tensorflow/python/client/session.py\", line 1371, in _do_run\n",
            "    return self._do_call(_run_fn, feeds, fetches, targets, options,\n",
            "  File \"/usr/local/lib/python3.9/dist-packages/tensorflow/python/client/session.py\", line 1378, in _do_call\n",
            "    return fn(*args)\n",
            "  File \"/usr/local/lib/python3.9/dist-packages/tensorflow/python/client/session.py\", line 1361, in _run_fn\n",
            "    return self._call_tf_sessionrun(options, feed_dict, fetch_list,\n",
            "  File \"/usr/local/lib/python3.9/dist-packages/tensorflow/python/client/session.py\", line 1454, in _call_tf_sessionrun\n",
            "    return tf_session.TF_SessionRun_wrapper(self._session, options, feed_dict,\n",
            "KeyboardInterrupt\n",
            "^C\n"
          ]
        }
      ],
      "source": [
        "%cd '{HM_DIR}/src'\n",
        "import tensorflow as tf\n",
        "with tf.device('/GPU:0'):\n",
        "  ! python SA2C_new.py --model=GRU --epoch=10 --data='{HM_DIR}/data'"
      ]
    },
    {
      "cell_type": "code",
      "execution_count": null,
      "metadata": {
        "id": "NL6CzxtgeH7L"
      },
      "outputs": [],
      "source": []
    }
  ],
  "metadata": {
    "accelerator": "GPU",
    "colab": {
      "machine_shape": "hm",
      "provenance": []
    },
    "gpuClass": "standard",
    "kernelspec": {
      "display_name": "Python 3",
      "language": "python",
      "name": "python3"
    },
    "language_info": {
      "name": "python",
      "version": "3.11.0"
    },
    "vscode": {
      "interpreter": {
        "hash": "aee8b7b246df8f9039afb4144a1f6fd8d2ca17a180786b69acc140d282b71a49"
      }
    }
  },
  "nbformat": 4,
  "nbformat_minor": 0
}

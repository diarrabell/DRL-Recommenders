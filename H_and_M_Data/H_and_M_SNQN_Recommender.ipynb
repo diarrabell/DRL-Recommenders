{
  "cells": [
    {
      "cell_type": "markdown",
      "metadata": {
        "id": "view-in-github",
        "colab_type": "text"
      },
      "source": [
        "<a href=\"https://colab.research.google.com/github/sfhorng/AIPI-531-Final-Project/blob/main/H_and_M_Data/H_and_M_SNQN_Recommender.ipynb\" target=\"_parent\"><img src=\"https://colab.research.google.com/assets/colab-badge.svg\" alt=\"Open In Colab\"/></a>"
      ]
    },
    {
      "cell_type": "markdown",
      "source": [
        "## AIPI 531 Final Project - Diarra Bell and Stephanie Horng\n",
        "\n",
        "This notebook trains the SNQN/GRU4Rec models using the H&M Kaggle Dataset: https://www.kaggle.com/competitions/h-and-m-personalized-fashion-recommendations/data\n",
        "\n",
        "Link to Github Repo: https://github.com/sfhorng/AIPI-531-Final-Project/tree/main/Retail_Rocket_Data"
      ],
      "metadata": {
        "id": "3ZLWotqP5Vow"
      }
    },
    {
      "cell_type": "markdown",
      "source": [
        "### 1. Install Dependencies and Imports"
      ],
      "metadata": {
        "id": "E8HHGQC16QSW"
      }
    },
    {
      "cell_type": "code",
      "execution_count": null,
      "metadata": {
        "id": "FH6zw6WDWRp4"
      },
      "outputs": [],
      "source": [
        "#import libraries\n",
        "import os\n",
        "import getpass\n",
        "import tensorflow as tf"
      ]
    },
    {
      "cell_type": "code",
      "source": [
        "#import github repo\n",
        "! pip install git+https://github.com/sfhorng/AIPI-531-Final-Project.git"
      ],
      "metadata": {
        "id": "MUtdeAvl3hIW"
      },
      "execution_count": null,
      "outputs": []
    },
    {
      "cell_type": "code",
      "execution_count": null,
      "metadata": {
        "id": "Vkk8_19Nn2nB"
      },
      "outputs": [],
      "source": [
        "# Install dependencies from requirements.txt file\n",
        "REPO_PATH = os.path.join(os.getcwd(), repo_name)\n",
        "%pip install -r {os.path.join(REPO_PATH, 'requirements.txt')}"
      ]
    },
    {
      "cell_type": "markdown",
      "source": [
        "### 2. Upload Kaggle Credentials and Initialize H&M dataset"
      ],
      "metadata": {
        "id": "_qwapml66evj"
      }
    },
    {
      "cell_type": "code",
      "execution_count": null,
      "metadata": {
        "id": "P7CNqd_sWoYp"
      },
      "outputs": [],
      "source": [
        "# Upload kaggle.json credentials for downloading with the API. Instructions for Kaggle API: https://github.com/Kaggle/kaggle-api\n",
        "from google.colab import files\n",
        "files.upload()"
      ]
    },
    {
      "cell_type": "code",
      "execution_count": null,
      "metadata": {
        "id": "UhNIIoLHm_-u"
      },
      "outputs": [],
      "source": [
        "# Download dataset, create sessions, create popularity dictionary and replay buffer\n",
        "HM_DIR = f'{REPO_PATH}/H_and_M_Data'\n",
        "# Because the H&M dataset is so large, we are sampling the total number of sessions (events)\n",
        "!python \"{HM_DIR}/src/main_setup.py\" --data_directory='{HM_DIR}/data' --num_total_sessions=500"
      ]
    },
    {
      "cell_type": "code",
      "execution_count": null,
      "metadata": {
        "id": "V-RriHqks9S_"
      },
      "outputs": [],
      "source": [
        "%cd '{HM_DIR}/src'"
      ]
    },
    {
      "cell_type": "markdown",
      "source": [
        "### 3. Train SNQN model (without item features)"
      ],
      "metadata": {
        "id": "tRWFTrKj6syA"
      }
    },
    {
      "cell_type": "code",
      "execution_count": null,
      "metadata": {
        "id": "KkfmmZcXjDyP"
      },
      "outputs": [],
      "source": [
        "with tf.device('/GPU:0'):\n",
        "  ! python SNQN_new.py --model=GRU --epoch=10 --data='{HM_DIR}/data'"
      ]
    },
    {
      "cell_type": "markdown",
      "source": [
        "### 4. Train GRU4Rec model (with item features)"
      ],
      "metadata": {
        "id": "Q3oVLeyl63IO"
      }
    },
    {
      "cell_type": "code",
      "source": [
        "with tf.device('/GPU:0'):\n",
        "  ! python SNQN_with_features.py --model=GRU --epoch=10 --data='{HM_DIR}/data'"
      ],
      "metadata": {
        "id": "FjrFvmrT62zx"
      },
      "execution_count": null,
      "outputs": []
    }
  ],
  "metadata": {
    "accelerator": "GPU",
    "colab": {
      "machine_shape": "hm",
      "provenance": [],
      "include_colab_link": true
    },
    "gpuClass": "standard",
    "kernelspec": {
      "display_name": "Python 3",
      "language": "python",
      "name": "python3"
    },
    "language_info": {
      "name": "python",
      "version": "3.11.0"
    },
    "vscode": {
      "interpreter": {
        "hash": "aee8b7b246df8f9039afb4144a1f6fd8d2ca17a180786b69acc140d282b71a49"
      }
    }
  },
  "nbformat": 4,
  "nbformat_minor": 0
}